{
 "cells": [
  {
   "cell_type": "markdown",
   "id": "df30ecd4",
   "metadata": {},
   "source": [
    "# Historical Data Load\n",
    "\n",
    "This jupyter notebook is used to manually load daily ticker price (Open | Close | High | Low | Volume) data dump from yahoo finance.\n",
    "FB sample link: https://finance.yahoo.com/quote/FB/history?p=FB"
   ]
  },
  {
   "cell_type": "code",
   "execution_count": 1,
   "id": "de694f1b",
   "metadata": {},
   "outputs": [],
   "source": [
    "import pandas as pd\n",
    "import sqlite3\n",
    "import datetime as dt"
   ]
  },
  {
   "cell_type": "code",
   "execution_count": 2,
   "id": "f02bd184",
   "metadata": {},
   "outputs": [],
   "source": [
    "db = sqlite3.connect('/Users/jegankarunakaran/AlgoTrading/code/AlgoTrading/strategies/db/ema_rsi_camarilla.db')\n",
    "c = db.cursor()"
   ]
  },
  {
   "cell_type": "markdown",
   "id": "99d60dde",
   "metadata": {},
   "source": [
    "### FB Data Load"
   ]
  },
  {
   "cell_type": "code",
   "execution_count": 2,
   "id": "f8e568bb",
   "metadata": {},
   "outputs": [],
   "source": [
    "fb = pd.read_csv('/Users/jegankarunakaran/AlgoTrading/data/daily_history/FB.csv')"
   ]
  },
  {
   "cell_type": "code",
   "execution_count": 3,
   "id": "ab331223",
   "metadata": {},
   "outputs": [
    {
     "data": {
      "text/html": [
       "<div>\n",
       "<style scoped>\n",
       "    .dataframe tbody tr th:only-of-type {\n",
       "        vertical-align: middle;\n",
       "    }\n",
       "\n",
       "    .dataframe tbody tr th {\n",
       "        vertical-align: top;\n",
       "    }\n",
       "\n",
       "    .dataframe thead th {\n",
       "        text-align: right;\n",
       "    }\n",
       "</style>\n",
       "<table border=\"1\" class=\"dataframe\">\n",
       "  <thead>\n",
       "    <tr style=\"text-align: right;\">\n",
       "      <th></th>\n",
       "      <th>Date</th>\n",
       "      <th>Open</th>\n",
       "      <th>High</th>\n",
       "      <th>Low</th>\n",
       "      <th>Close</th>\n",
       "      <th>Adj Close</th>\n",
       "      <th>Volume</th>\n",
       "    </tr>\n",
       "  </thead>\n",
       "  <tbody>\n",
       "    <tr>\n",
       "      <th>0</th>\n",
       "      <td>2020-09-01</td>\n",
       "      <td>294.709991</td>\n",
       "      <td>301.489990</td>\n",
       "      <td>292.709991</td>\n",
       "      <td>295.440002</td>\n",
       "      <td>295.440002</td>\n",
       "      <td>17295900</td>\n",
       "    </tr>\n",
       "    <tr>\n",
       "      <th>1</th>\n",
       "      <td>2020-09-02</td>\n",
       "      <td>298.880005</td>\n",
       "      <td>303.600006</td>\n",
       "      <td>293.049988</td>\n",
       "      <td>302.500000</td>\n",
       "      <td>302.500000</td>\n",
       "      <td>24341400</td>\n",
       "    </tr>\n",
       "    <tr>\n",
       "      <th>2</th>\n",
       "      <td>2020-09-03</td>\n",
       "      <td>295.989990</td>\n",
       "      <td>297.600006</td>\n",
       "      <td>283.630005</td>\n",
       "      <td>291.119995</td>\n",
       "      <td>291.119995</td>\n",
       "      <td>32294100</td>\n",
       "    </tr>\n",
       "    <tr>\n",
       "      <th>3</th>\n",
       "      <td>2020-09-04</td>\n",
       "      <td>287.250000</td>\n",
       "      <td>289.000000</td>\n",
       "      <td>271.140015</td>\n",
       "      <td>282.730011</td>\n",
       "      <td>282.730011</td>\n",
       "      <td>30333700</td>\n",
       "    </tr>\n",
       "    <tr>\n",
       "      <th>4</th>\n",
       "      <td>2020-09-08</td>\n",
       "      <td>271.279999</td>\n",
       "      <td>279.299988</td>\n",
       "      <td>269.420013</td>\n",
       "      <td>271.160004</td>\n",
       "      <td>271.160004</td>\n",
       "      <td>24864000</td>\n",
       "    </tr>\n",
       "  </tbody>\n",
       "</table>\n",
       "</div>"
      ],
      "text/plain": [
       "         Date        Open        High         Low       Close   Adj Close  \\\n",
       "0  2020-09-01  294.709991  301.489990  292.709991  295.440002  295.440002   \n",
       "1  2020-09-02  298.880005  303.600006  293.049988  302.500000  302.500000   \n",
       "2  2020-09-03  295.989990  297.600006  283.630005  291.119995  291.119995   \n",
       "3  2020-09-04  287.250000  289.000000  271.140015  282.730011  282.730011   \n",
       "4  2020-09-08  271.279999  279.299988  269.420013  271.160004  271.160004   \n",
       "\n",
       "     Volume  \n",
       "0  17295900  \n",
       "1  24341400  \n",
       "2  32294100  \n",
       "3  30333700  \n",
       "4  24864000  "
      ]
     },
     "execution_count": 3,
     "metadata": {},
     "output_type": "execute_result"
    }
   ],
   "source": [
    "fb.head()"
   ]
  },
  {
   "cell_type": "code",
   "execution_count": 8,
   "id": "9f4d9619",
   "metadata": {},
   "outputs": [],
   "source": [
    "for index, item in fb.iterrows():\n",
    "    try:\n",
    "        vals = ['FB', dt.datetime.strptime(item['Date'], \"%Y-%m-%d\").date(), \n",
    "            item['Open'], item['Close'], item['High'], item['Low'], item['Volume']]\n",
    "        query = \"INSERT INTO DAILY_PRICE (ticker, close_date, open_price, close_price, high_price, low_price,volume) VALUES (?,?,?,?,?,?,?)\"\n",
    "        c.execute(query,vals)\n",
    "    except Exception as e:\n",
    "            print(\"db error {}\".format(e))\n",
    "\n",
    "try:\n",
    "    db.commit()\n",
    "except:\n",
    "    db.rollback()"
   ]
  },
  {
   "cell_type": "markdown",
   "id": "33da44b2",
   "metadata": {},
   "source": [
    "### MSFT Data Load"
   ]
  },
  {
   "cell_type": "code",
   "execution_count": 9,
   "id": "07323b57",
   "metadata": {},
   "outputs": [],
   "source": [
    "msft = pd.read_csv('/Users/jegankarunakaran/AlgoTrading/data/daily_history/MSFT.csv')"
   ]
  },
  {
   "cell_type": "code",
   "execution_count": 10,
   "id": "aa7996eb",
   "metadata": {},
   "outputs": [
    {
     "data": {
      "text/html": [
       "<div>\n",
       "<style scoped>\n",
       "    .dataframe tbody tr th:only-of-type {\n",
       "        vertical-align: middle;\n",
       "    }\n",
       "\n",
       "    .dataframe tbody tr th {\n",
       "        vertical-align: top;\n",
       "    }\n",
       "\n",
       "    .dataframe thead th {\n",
       "        text-align: right;\n",
       "    }\n",
       "</style>\n",
       "<table border=\"1\" class=\"dataframe\">\n",
       "  <thead>\n",
       "    <tr style=\"text-align: right;\">\n",
       "      <th></th>\n",
       "      <th>Date</th>\n",
       "      <th>Open</th>\n",
       "      <th>High</th>\n",
       "      <th>Low</th>\n",
       "      <th>Close</th>\n",
       "      <th>Adj Close</th>\n",
       "      <th>Volume</th>\n",
       "    </tr>\n",
       "  </thead>\n",
       "  <tbody>\n",
       "    <tr>\n",
       "      <th>0</th>\n",
       "      <td>2020-09-01</td>\n",
       "      <td>225.509995</td>\n",
       "      <td>227.449997</td>\n",
       "      <td>224.429993</td>\n",
       "      <td>227.270004</td>\n",
       "      <td>225.203552</td>\n",
       "      <td>25725500</td>\n",
       "    </tr>\n",
       "    <tr>\n",
       "      <th>1</th>\n",
       "      <td>2020-09-02</td>\n",
       "      <td>227.970001</td>\n",
       "      <td>232.860001</td>\n",
       "      <td>227.350006</td>\n",
       "      <td>231.649994</td>\n",
       "      <td>229.543701</td>\n",
       "      <td>34080800</td>\n",
       "    </tr>\n",
       "    <tr>\n",
       "      <th>2</th>\n",
       "      <td>2020-09-03</td>\n",
       "      <td>229.270004</td>\n",
       "      <td>229.309998</td>\n",
       "      <td>214.960007</td>\n",
       "      <td>217.300003</td>\n",
       "      <td>215.324188</td>\n",
       "      <td>58400300</td>\n",
       "    </tr>\n",
       "    <tr>\n",
       "      <th>3</th>\n",
       "      <td>2020-09-04</td>\n",
       "      <td>215.100006</td>\n",
       "      <td>218.360001</td>\n",
       "      <td>205.190002</td>\n",
       "      <td>214.250000</td>\n",
       "      <td>212.301926</td>\n",
       "      <td>59664100</td>\n",
       "    </tr>\n",
       "    <tr>\n",
       "      <th>4</th>\n",
       "      <td>2020-09-08</td>\n",
       "      <td>206.500000</td>\n",
       "      <td>210.029999</td>\n",
       "      <td>202.199997</td>\n",
       "      <td>202.660004</td>\n",
       "      <td>200.817322</td>\n",
       "      <td>52924300</td>\n",
       "    </tr>\n",
       "  </tbody>\n",
       "</table>\n",
       "</div>"
      ],
      "text/plain": [
       "         Date        Open        High         Low       Close   Adj Close  \\\n",
       "0  2020-09-01  225.509995  227.449997  224.429993  227.270004  225.203552   \n",
       "1  2020-09-02  227.970001  232.860001  227.350006  231.649994  229.543701   \n",
       "2  2020-09-03  229.270004  229.309998  214.960007  217.300003  215.324188   \n",
       "3  2020-09-04  215.100006  218.360001  205.190002  214.250000  212.301926   \n",
       "4  2020-09-08  206.500000  210.029999  202.199997  202.660004  200.817322   \n",
       "\n",
       "     Volume  \n",
       "0  25725500  \n",
       "1  34080800  \n",
       "2  58400300  \n",
       "3  59664100  \n",
       "4  52924300  "
      ]
     },
     "execution_count": 10,
     "metadata": {},
     "output_type": "execute_result"
    }
   ],
   "source": [
    "msft.head()"
   ]
  },
  {
   "cell_type": "code",
   "execution_count": 11,
   "id": "7bf78417",
   "metadata": {},
   "outputs": [],
   "source": [
    "for index, item in msft.iterrows():\n",
    "    try:\n",
    "        vals = ['MSFT', dt.datetime.strptime(item['Date'], \"%Y-%m-%d\").date(), \n",
    "            item['Open'], item['Close'], item['High'], item['Low'], item['Volume']]\n",
    "        query = \"INSERT INTO DAILY_PRICE (ticker, close_date, open_price, close_price, high_price, low_price,volume) VALUES (?,?,?,?,?,?,?)\"\n",
    "        c.execute(query,vals)\n",
    "    except Exception as e:\n",
    "            print(\"db error {}\".format(e))\n",
    "\n",
    "try:\n",
    "    db.commit()\n",
    "except:\n",
    "    db.rollback()"
   ]
  },
  {
   "cell_type": "code",
   "execution_count": null,
   "id": "e1ae0c1c",
   "metadata": {},
   "outputs": [],
   "source": []
  }
 ],
 "metadata": {
  "kernelspec": {
   "display_name": "Python 3 (ipykernel)",
   "language": "python",
   "name": "python3"
  },
  "language_info": {
   "codemirror_mode": {
    "name": "ipython",
    "version": 3
   },
   "file_extension": ".py",
   "mimetype": "text/x-python",
   "name": "python",
   "nbconvert_exporter": "python",
   "pygments_lexer": "ipython3",
   "version": "3.8.12"
  }
 },
 "nbformat": 4,
 "nbformat_minor": 5
}
