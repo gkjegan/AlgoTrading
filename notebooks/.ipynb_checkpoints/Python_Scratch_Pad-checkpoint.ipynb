{
 "cells": [
  {
   "cell_type": "code",
   "execution_count": 3,
   "id": "f12881fb",
   "metadata": {},
   "outputs": [],
   "source": [
    "data = {0: {'delayed_bid': 340.25, 'delayed_ask': 340.4, 'delayed_last_traded': 340.4, 'delayed_prior close': 327.74},\n",
    "       1: {'delayed_bid': 340.25, 'delayed_ask': 340.4, 'delayed_last_traded': 340.4, 'delayed_prior close': 327.74}}"
   ]
  },
  {
   "cell_type": "code",
   "execution_count": 6,
   "id": "4717c20e",
   "metadata": {},
   "outputs": [
    {
     "name": "stdout",
     "output_type": "stream",
     "text": [
      "{'delayed_bid': 340.25, 'delayed_ask': 340.4, 'delayed_last_traded': 340.4, 'delayed_prior close': 327.74}\n",
      "340.25\n",
      "{'delayed_bid': 340.25, 'delayed_ask': 340.4, 'delayed_last_traded': 340.4, 'delayed_prior close': 327.74}\n",
      "340.25\n"
     ]
    }
   ],
   "source": [
    "for items in data:\n",
    "    print(data[items])\n",
    "    print(data[items]['delayed_bid'])    "
   ]
  },
  {
   "cell_type": "code",
   "execution_count": 1,
   "id": "5f5e8a6e",
   "metadata": {},
   "outputs": [],
   "source": [
    "import pandas as pd"
   ]
  },
  {
   "cell_type": "code",
   "execution_count": 6,
   "id": "f12f9466",
   "metadata": {},
   "outputs": [],
   "source": [
    "pd_1 = pd.DataFrame()"
   ]
  },
  {
   "cell_type": "code",
   "execution_count": 7,
   "id": "600bc41d",
   "metadata": {},
   "outputs": [],
   "source": [
    "pd_1['action'] = \"BUY\""
   ]
  },
  {
   "cell_type": "code",
   "execution_count": 8,
   "id": "b224f21c",
   "metadata": {},
   "outputs": [
    {
     "data": {
      "text/html": [
       "<div>\n",
       "<style scoped>\n",
       "    .dataframe tbody tr th:only-of-type {\n",
       "        vertical-align: middle;\n",
       "    }\n",
       "\n",
       "    .dataframe tbody tr th {\n",
       "        vertical-align: top;\n",
       "    }\n",
       "\n",
       "    .dataframe thead th {\n",
       "        text-align: right;\n",
       "    }\n",
       "</style>\n",
       "<table border=\"1\" class=\"dataframe\">\n",
       "  <thead>\n",
       "    <tr style=\"text-align: right;\">\n",
       "      <th></th>\n",
       "      <th>action</th>\n",
       "    </tr>\n",
       "  </thead>\n",
       "  <tbody>\n",
       "  </tbody>\n",
       "</table>\n",
       "</div>"
      ],
      "text/plain": [
       "Empty DataFrame\n",
       "Columns: [action]\n",
       "Index: []"
      ]
     },
     "execution_count": 8,
     "metadata": {},
     "output_type": "execute_result"
    }
   ],
   "source": [
    "pd_1.head()"
   ]
  },
  {
   "cell_type": "code",
   "execution_count": 1,
   "id": "5ff26cf1",
   "metadata": {},
   "outputs": [],
   "source": [
    "tickers = ['MSFT', 'APPL', 'TSLA', 'FB', 'BRK.B', 'NVDA', 'JPM', 'V', 'JNJ', 'UNH', 'WMT', 'BAC', 'PG']"
   ]
  },
  {
   "cell_type": "code",
   "execution_count": 2,
   "id": "a07fcf92",
   "metadata": {},
   "outputs": [
    {
     "name": "stdout",
     "output_type": "stream",
     "text": [
      "0\n",
      "1\n",
      "2\n",
      "3\n",
      "4\n",
      "5\n",
      "6\n",
      "7\n",
      "8\n",
      "9\n",
      "10\n",
      "11\n",
      "12\n"
     ]
    }
   ],
   "source": [
    "for ticker in tickers:\n",
    "    print(tickers.index(ticker))"
   ]
  },
  {
   "cell_type": "code",
   "execution_count": null,
   "id": "cc096699",
   "metadata": {},
   "outputs": [],
   "source": []
  }
 ],
 "metadata": {
  "kernelspec": {
   "display_name": "Python 3 (ipykernel)",
   "language": "python",
   "name": "python3"
  },
  "language_info": {
   "codemirror_mode": {
    "name": "ipython",
    "version": 3
   },
   "file_extension": ".py",
   "mimetype": "text/x-python",
   "name": "python",
   "nbconvert_exporter": "python",
   "pygments_lexer": "ipython3",
   "version": "3.8.12"
  }
 },
 "nbformat": 4,
 "nbformat_minor": 5
}
