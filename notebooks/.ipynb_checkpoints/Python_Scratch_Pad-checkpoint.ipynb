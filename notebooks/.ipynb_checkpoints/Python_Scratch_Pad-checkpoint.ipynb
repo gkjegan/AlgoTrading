{
 "cells": [
  {
   "cell_type": "code",
   "execution_count": 3,
   "id": "f12881fb",
   "metadata": {},
   "outputs": [],
   "source": [
    "data = {0: {'delayed_bid': 340.25, 'delayed_ask': 340.4, 'delayed_last_traded': 340.4, 'delayed_prior close': 327.74},\n",
    "       1: {'delayed_bid': 340.25, 'delayed_ask': 340.4, 'delayed_last_traded': 340.4, 'delayed_prior close': 327.74}}"
   ]
  },
  {
   "cell_type": "code",
   "execution_count": 6,
   "id": "4717c20e",
   "metadata": {},
   "outputs": [
    {
     "name": "stdout",
     "output_type": "stream",
     "text": [
      "{'delayed_bid': 340.25, 'delayed_ask': 340.4, 'delayed_last_traded': 340.4, 'delayed_prior close': 327.74}\n",
      "340.25\n",
      "{'delayed_bid': 340.25, 'delayed_ask': 340.4, 'delayed_last_traded': 340.4, 'delayed_prior close': 327.74}\n",
      "340.25\n"
     ]
    }
   ],
   "source": [
    "for items in data:\n",
    "    print(data[items])\n",
    "    print(data[items]['delayed_bid'])    "
   ]
  },
  {
   "cell_type": "code",
   "execution_count": null,
   "id": "f12f9466",
   "metadata": {},
   "outputs": [],
   "source": []
  }
 ],
 "metadata": {
  "kernelspec": {
   "display_name": "Python 3 (ipykernel)",
   "language": "python",
   "name": "python3"
  },
  "language_info": {
   "codemirror_mode": {
    "name": "ipython",
    "version": 3
   },
   "file_extension": ".py",
   "mimetype": "text/x-python",
   "name": "python",
   "nbconvert_exporter": "python",
   "pygments_lexer": "ipython3",
   "version": "3.8.12"
  }
 },
 "nbformat": 4,
 "nbformat_minor": 5
}
