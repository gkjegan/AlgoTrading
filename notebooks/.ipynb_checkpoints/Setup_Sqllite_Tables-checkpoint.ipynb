{
 "cells": [
  {
   "cell_type": "markdown",
   "id": "5a7e9fb0",
   "metadata": {},
   "source": [
    "# SQLlite3 Tables\n",
    "\n",
    "This jupyter notebook is used to setup all necessay tables manually. Refer to https://docs.google.com/document/d/1vlbqEqaOGYHzpRV6Tdrp3lKW2PHheZtgGtp6GqPqdjQ/edit for strategy and table detials"
   ]
  },
  {
   "cell_type": "code",
   "execution_count": 1,
   "id": "374356fb",
   "metadata": {},
   "outputs": [],
   "source": [
    "import sqlite3\n",
    "import datetime as dt"
   ]
  },
  {
   "cell_type": "code",
   "execution_count": 2,
   "id": "cf11038c",
   "metadata": {},
   "outputs": [],
   "source": [
    "db = sqlite3.connect('/Users/jegankarunakaran/AlgoTrading/code/AlgoTrading/db/ema_rsi_camarilla.db')\n",
    "c = db.cursor()"
   ]
  },
  {
   "cell_type": "markdown",
   "id": "fb471023",
   "metadata": {},
   "source": [
    "### Daily Price table\n",
    "daily_price table will have the historical price data (Open | Close | High | Low | Volume)  with ticker and close date as primary key."
   ]
  },
  {
   "cell_type": "code",
   "execution_count": 4,
   "id": "10dd41de",
   "metadata": {},
   "outputs": [],
   "source": [
    "create_daily_price_sql = '''CREATE TABLE IF NOT EXISTS DAILY_PRICE(\n",
    "    ticker TEXT NOT NULL, \n",
    "    close_date date, \n",
    "    open_price real(15,5), \n",
    "    close_price real(15,5), \n",
    "    high_price real(15,5),\n",
    "    low_price real(15,5), \n",
    "    volume bigint , \n",
    "    PRIMARY KEY (ticker, close_date)\n",
    ")'''"
   ]
  },
  {
   "cell_type": "code",
   "execution_count": 7,
   "id": "a09f86f1",
   "metadata": {},
   "outputs": [],
   "source": [
    "#c.execute(create_daily_price_sql)\n",
    "#db.commit()"
   ]
  },
  {
   "cell_type": "markdown",
   "id": "e6a1699e",
   "metadata": {},
   "source": [
    "### Other Queries for reference"
   ]
  },
  {
   "cell_type": "code",
   "execution_count": 6,
   "id": "d3d32761",
   "metadata": {},
   "outputs": [],
   "source": [
    "#Manage daily_price tables\n",
    "\n",
    "#delete_daily_price_sql = '''DELETE FROM DAILY_PRICE'''\n",
    "#drop_daily_price_sql = '''DROP TABLE DAILY_PRICE'''\n"
   ]
  },
  {
   "cell_type": "code",
   "execution_count": 10,
   "id": "7cf26a21",
   "metadata": {},
   "outputs": [],
   "source": [
    "#query data for the last X number of days from today. This is used to calculate Exponential Mean Average (EMA)\n",
    "queryDate = (dt.datetime.today() - dt.timedelta(days=2)).date()\n",
    "query_daily_price_sql = '''SELECT * from DAILY_PRICE \n",
    "    where close_date < \"''' + str(queryDate) + '''\"'''\n",
    "c.execute(query_daily_price_sql)\n",
    "result = c.fetchall()\n",
    "#print(result)"
   ]
  },
  {
   "cell_type": "code",
   "execution_count": 12,
   "id": "97abacd8",
   "metadata": {},
   "outputs": [],
   "source": [
    "#query data between two dates . This is used to calculate EMA backtesting\n",
    "start_date = dt.datetime.strptime('20211101', \"%Y%m%d\").date()\n",
    "end_date = (dt.datetime.strptime('20211101', \"%Y%m%d\") - dt.timedelta(days=2)).date()\n",
    "\n",
    "query_daily_price_backtest_sql = '''SELECT * from DAILY_PRICE \n",
    "    where close_date between \"''' + str(end_date) + '''\" and \"''' + str(start_date) +'''\"'''\n",
    "\n",
    "c.execute(query_daily_price_backtest_sql)\n",
    "result = c.fetchall()\n",
    "#print(result)"
   ]
  },
  {
   "cell_type": "markdown",
   "id": "9d926dc0",
   "metadata": {},
   "source": [
    "### Technical Indicator table\n",
    "\n",
    "tech_ind table will store all the technical indicators needed for strategies. Again refer to doc for specific technical indicators needed for each strategies."
   ]
  },
  {
   "cell_type": "code",
   "execution_count": 13,
   "id": "4927b571",
   "metadata": {},
   "outputs": [],
   "source": [
    "create_tech_ind_sql = '''CREATE TABLE IF NOT EXISTS TECH_IND(\n",
    "    ticker TEXT NOT NULL, \n",
    "    run_date date, \n",
    "    ema real(15,5), \n",
    "    rsi real(15,5), \n",
    "    r3 real(15,5),\n",
    "    s3 real(15,5),\n",
    "    PRIMARY KEY (ticker, run_date)\n",
    ")'''"
   ]
  },
  {
   "cell_type": "code",
   "execution_count": 14,
   "id": "0eb6343d",
   "metadata": {},
   "outputs": [],
   "source": [
    "#c.execute(create_tech_ind_sql)\n",
    "#db.commit()"
   ]
  },
  {
   "cell_type": "code",
   "execution_count": 15,
   "id": "23ad4f11",
   "metadata": {},
   "outputs": [],
   "source": [
    "db.close()"
   ]
  },
  {
   "cell_type": "markdown",
   "id": "195dd731",
   "metadata": {},
   "source": [
    "### Intraday Price tables"
   ]
  },
  {
   "cell_type": "code",
   "execution_count": null,
   "id": "0e7eed24",
   "metadata": {},
   "outputs": [],
   "source": [
    "# Table for individual Ticker\n"
   ]
  },
  {
   "cell_type": "code",
   "execution_count": 5,
   "id": "59cbd79e",
   "metadata": {},
   "outputs": [],
   "source": [
    "tickers = ['MSFT', 'TSLA', 'FB', 'NVDA', 'JPM', 'V', 'JNJ', 'UNH', 'WMT', 'BAC', 'PG']\n",
    "for ticker in tickers:\n",
    "    intra_sql = '''CREATE TABLE IF NOT EXISTS TICKER_{} (time datetime primary key, delayed_bid real(15,5),\n",
    "          delayed_ask real(15,5), delayed_last_traded real(15,5), delayed_prior real(15,5))'''.format(ticker)\n",
    "    c.execute(intra_sql)\n",
    "    db.commit()\n"
   ]
  },
  {
   "cell_type": "markdown",
   "id": "9694417f",
   "metadata": {},
   "source": [
    "### Transaction table"
   ]
  },
  {
   "cell_type": "code",
   "execution_count": 5,
   "id": "1711ebb1",
   "metadata": {},
   "outputs": [],
   "source": [
    "create_transaction_sql = '''CREATE TABLE IF NOT EXISTS TRADE_TRANSACTION (\n",
    "    transaction_id integer primary key AUTOINCREMENT, \n",
    "    strategy_name text not null, \n",
    "    ticker text not null, \n",
    "    tech_indicator text, \n",
    "    action text,\n",
    "    unit_price real(15,5), \n",
    "    quantity int, \n",
    "    total_price real(15,5),     \n",
    "    status int,\n",
    "    time datetime\n",
    ")'''"
   ]
  },
  {
   "cell_type": "code",
   "execution_count": 6,
   "id": "652b3dab",
   "metadata": {},
   "outputs": [],
   "source": [
    "c.execute(create_transaction_sql)\n",
    "db.commit()"
   ]
  },
  {
   "cell_type": "markdown",
   "id": "d50a241c",
   "metadata": {},
   "source": [
    "### Portfolio table"
   ]
  },
  {
   "cell_type": "code",
   "execution_count": 1,
   "id": "70993054",
   "metadata": {},
   "outputs": [],
   "source": [
    "create_portfolio_sql = '''CREATE TABLE IF NOT EXISTS PORTFOLIO (\n",
    "    strategy_name text not null, \n",
    "    ticker text not null, \n",
    "    active_stocks int, \n",
    "    total_price real(15,5), \n",
    "    time datetime,\n",
    "    PRIMARY KEY (strategy_name, ticker)\n",
    ")'''"
   ]
  },
  {
   "cell_type": "code",
   "execution_count": 5,
   "id": "58310a2e",
   "metadata": {},
   "outputs": [],
   "source": [
    "c.execute(create_portfolio_sql)\n",
    "db.commit()"
   ]
  },
  {
   "cell_type": "code",
   "execution_count": 9,
   "id": "94dcabed",
   "metadata": {},
   "outputs": [],
   "source": [
    "#tickers = ['MSFT', 'TSLA', 'FB', 'NVDA', 'JPM', 'V', 'JNJ', 'UNH', 'WMT', 'BAC', 'PG']\n",
    "tickers = ['CASH']\n",
    "for ticker in tickers:\n",
    "    try:\n",
    "        vals = [ticker, 0, 10000]\n",
    "        query = \"INSERT INTO PORTFOLIO(strategy_name, ticker, active_stocks,total_price, time) VALUES ('ema_rsi_camarilla',?,?,?,CURRENT_TIMESTAMP)\"\n",
    "        c.execute(query,vals)\n",
    "    except Exception as e:\n",
    "            print(\"db error {}\".format(e))\n",
    "try:\n",
    "    db.commit()\n",
    "except:\n",
    "    db.rollback()\n"
   ]
  },
  {
   "cell_type": "code",
   "execution_count": 7,
   "id": "20d1f9b6",
   "metadata": {},
   "outputs": [],
   "source": [
    "tickers = ['MSFT', 'TSLA', 'FB', 'NVDA', 'JPM', 'V', 'JNJ', 'UNH', 'WMT', 'BAC', 'PG']\n",
    "#tickers = ['BAC']\n",
    "for ticker in tickers:\n",
    "    try:\n",
    "        intra_sql = '''DELETE FROM TICKER_{} where delayed_last_traded = 0'''.format(ticker)\n",
    "        c.execute(intra_sql)\n",
    "    except Exception as e:\n",
    "        print(\"db error {}\".format(e))\n",
    "try:\n",
    "    db.commit()\n",
    "except:\n",
    "    db.rollback()\n",
    "    "
   ]
  },
  {
   "cell_type": "code",
   "execution_count": 3,
   "id": "742d227f",
   "metadata": {},
   "outputs": [],
   "source": [
    "create_index_daily_price_sql = '''CREATE TABLE IF NOT EXISTS INDEX_DAILY_PRICE(\n",
    "    ticker TEXT NOT NULL, \n",
    "    close_date date, \n",
    "    open_price real(15,5), \n",
    "    close_price real(15,5), \n",
    "    high_price real(15,5),\n",
    "    low_price real(15,5), \n",
    "    volume bigint , \n",
    "    PRIMARY KEY (ticker, close_date)\n",
    ")'''"
   ]
  },
  {
   "cell_type": "code",
   "execution_count": 5,
   "id": "7ac21c18",
   "metadata": {},
   "outputs": [],
   "source": [
    "c.execute(create_index_daily_price_sql)\n",
    "db.commit()"
   ]
  },
  {
   "cell_type": "markdown",
   "id": "5ca8552d",
   "metadata": {},
   "source": [
    "## Back Testing Tables"
   ]
  },
  {
   "cell_type": "code",
   "execution_count": 3,
   "id": "c0dfdf17",
   "metadata": {},
   "outputs": [],
   "source": [
    "create_backtest_transaction_sql = '''CREATE TABLE IF NOT EXISTS TRADE_TRANSACTION_BACKTEST (\n",
    "    transaction_id integer primary key AUTOINCREMENT, \n",
    "    strategy_name text not null, \n",
    "    ticker text not null, \n",
    "    tech_indicator text, \n",
    "    action text,\n",
    "    unit_price real(15,5), \n",
    "    quantity int, \n",
    "    total_price real(15,5),     \n",
    "    status int,\n",
    "    time datetime\n",
    ")'''"
   ]
  },
  {
   "cell_type": "code",
   "execution_count": 4,
   "id": "e97459cd",
   "metadata": {},
   "outputs": [],
   "source": [
    "c.execute(create_backtest_transaction_sql)\n",
    "db.commit()"
   ]
  },
  {
   "cell_type": "code",
   "execution_count": 5,
   "id": "a6e8708e",
   "metadata": {},
   "outputs": [],
   "source": [
    "create_portfolio_backtest_sql = '''CREATE TABLE IF NOT EXISTS PORTFOLIO_BACKTEST (\n",
    "    strategy_name text not null, \n",
    "    ticker text not null, \n",
    "    active_stocks int, \n",
    "    total_price real(15,5), \n",
    "    time datetime,\n",
    "    PRIMARY KEY (strategy_name, ticker)\n",
    ")'''"
   ]
  },
  {
   "cell_type": "code",
   "execution_count": 6,
   "id": "9e92cddb",
   "metadata": {},
   "outputs": [],
   "source": [
    "c.execute(create_portfolio_backtest_sql)\n",
    "db.commit()"
   ]
  },
  {
   "cell_type": "code",
   "execution_count": 4,
   "id": "f5404289",
   "metadata": {},
   "outputs": [
    {
     "name": "stdout",
     "output_type": "stream",
     "text": [
      "db error Incorrect number of bindings supplied. The current statement uses 0, and there are 3 supplied.\n",
      "db error Incorrect number of bindings supplied. The current statement uses 0, and there are 3 supplied.\n",
      "db error Incorrect number of bindings supplied. The current statement uses 0, and there are 3 supplied.\n",
      "db error Incorrect number of bindings supplied. The current statement uses 0, and there are 3 supplied.\n",
      "db error Incorrect number of bindings supplied. The current statement uses 0, and there are 3 supplied.\n",
      "db error Incorrect number of bindings supplied. The current statement uses 0, and there are 3 supplied.\n",
      "db error Incorrect number of bindings supplied. The current statement uses 0, and there are 3 supplied.\n",
      "db error Incorrect number of bindings supplied. The current statement uses 0, and there are 3 supplied.\n",
      "db error Incorrect number of bindings supplied. The current statement uses 0, and there are 3 supplied.\n",
      "db error Incorrect number of bindings supplied. The current statement uses 0, and there are 3 supplied.\n",
      "db error Incorrect number of bindings supplied. The current statement uses 0, and there are 3 supplied.\n"
     ]
    }
   ],
   "source": [
    "#tickers = ['MSFT', 'TSLA', 'FB', 'NVDA', 'JPM', 'V', 'JNJ', 'UNH', 'WMT', 'BAC', 'PG']\n",
    "tickers = ['MSFT', 'TSLA', 'FB', 'NVDA', 'JPM', 'V', 'JNJ', 'UNH', 'WMT', 'BAC', 'PG']\n",
    "#tickers = ['CASH']\n",
    "for ticker in tickers:\n",
    "    try:\n",
    "        #vals = [ticker, 0, 0]\n",
    "        query = \"update portfolio_backtest set active_stocks = 0 , total_price = 0 where strategy_name = 'ema_rsi_camarilla' and ticker='{}'\".format(ticker)\n",
    "        c.execute(query)\n",
    "    except Exception as e:\n",
    "            print(\"db error {}\".format(e))\n",
    "try:\n",
    "    db.commit()\n",
    "except:\n",
    "    db.rollback()"
   ]
  },
  {
   "cell_type": "code",
   "execution_count": null,
   "id": "3018d943",
   "metadata": {},
   "outputs": [],
   "source": [
    "#tickers = ['MSFT', 'TSLA', 'FB', 'NVDA', 'JPM', 'V', 'JNJ', 'UNH', 'WMT', 'BAC', 'PG']\n",
    "#tickers = ['MSFT', 'TSLA', 'FB', 'NVDA', 'JPM', 'V', 'JNJ', 'UNH', 'WMT', 'BAC', 'PG']\n",
    "tickers = ['CASH']\n",
    "for ticker in tickers:\n",
    "    try:\n",
    "        vals = [ticker, 0, 10000]\n",
    "        query = \"UPDATE PORTFOLIO_BACKTEST(strategy_name, ticker, active_stocks,total_price, time) VALUES ('ema_rsi_camarilla',?,?,?,CURRENT_TIMESTAMP)\"\n",
    "        c.execute(query,vals)\n",
    "    except Exception as e:\n",
    "            print(\"db error {}\".format(e))\n",
    "try:\n",
    "    db.commit()\n",
    "except:\n",
    "    db.rollback()"
   ]
  },
  {
   "cell_type": "code",
   "execution_count": 8,
   "id": "13a0680f",
   "metadata": {},
   "outputs": [],
   "source": [
    "#tickers = ['MSFT', 'TSLA', 'FB', 'NVDA', 'JPM', 'V', 'JNJ', 'UNH', 'WMT', 'BAC', 'PG']\n",
    "#tickers = ['MSFT', 'TSLA', 'FB', 'NVDA', 'JPM', 'V', 'JNJ', 'UNH', 'WMT', 'BAC', 'PG']\n",
    "tickers = ['CASH']\n",
    "for ticker in tickers:\n",
    "    try:\n",
    "        vals = [ticker, 0, 10000]\n",
    "        query = \"INSERT INTO PORTFOLIO_BACKTEST(strategy_name, ticker, active_stocks,total_price, time) VALUES ('ema_rsi_camarilla',?,?,?,CURRENT_TIMESTAMP)\"\n",
    "        c.execute(query,vals)\n",
    "    except Exception as e:\n",
    "            print(\"db error {}\".format(e))\n",
    "try:\n",
    "    db.commit()\n",
    "except:\n",
    "    db.rollback()"
   ]
  },
  {
   "cell_type": "code",
   "execution_count": null,
   "id": "1fdf3ab7",
   "metadata": {},
   "outputs": [],
   "source": []
  }
 ],
 "metadata": {
  "kernelspec": {
   "display_name": "Python 3 (ipykernel)",
   "language": "python",
   "name": "python3"
  },
  "language_info": {
   "codemirror_mode": {
    "name": "ipython",
    "version": 3
   },
   "file_extension": ".py",
   "mimetype": "text/x-python",
   "name": "python",
   "nbconvert_exporter": "python",
   "pygments_lexer": "ipython3",
   "version": "3.8.12"
  }
 },
 "nbformat": 4,
 "nbformat_minor": 5
}
