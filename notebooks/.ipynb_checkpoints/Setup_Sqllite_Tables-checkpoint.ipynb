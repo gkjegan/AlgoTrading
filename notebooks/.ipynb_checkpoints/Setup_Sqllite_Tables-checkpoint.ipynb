{
 "cells": [
  {
   "cell_type": "markdown",
   "id": "5a7e9fb0",
   "metadata": {},
   "source": [
    "# SQLlite3 Tables\n",
    "\n",
    "This jupyter notebook is used to setup all necessay tables manually. Refer to https://docs.google.com/document/d/1vlbqEqaOGYHzpRV6Tdrp3lKW2PHheZtgGtp6GqPqdjQ/edit for strategy and table detials"
   ]
  },
  {
   "cell_type": "code",
   "execution_count": 2,
   "id": "374356fb",
   "metadata": {},
   "outputs": [],
   "source": [
    "import sqlite3\n",
    "import datetime as dt"
   ]
  },
  {
   "cell_type": "code",
   "execution_count": 3,
   "id": "cf11038c",
   "metadata": {},
   "outputs": [],
   "source": [
    "db = sqlite3.connect('/Users/jegankarunakaran/AlgoTrading/code/AlgoTrading/strategies/db/ema_rsi_camarilla.db')\n",
    "c = db.cursor()"
   ]
  },
  {
   "cell_type": "markdown",
   "id": "fb471023",
   "metadata": {},
   "source": [
    "### Daily Price tables\n",
    "daily_price table will have the historical price data (Open | Close | High | Low | Volume)  with ticker and close date as primary key."
   ]
  },
  {
   "cell_type": "code",
   "execution_count": 4,
   "id": "10dd41de",
   "metadata": {},
   "outputs": [],
   "source": [
    "create_daily_price_sql = '''CREATE TABLE IF NOT EXISTS DAILY_PRICE(\n",
    "    ticker TEXT NOT NULL, \n",
    "    close_date date, \n",
    "    open_price real(15,5), \n",
    "    close_price real(15,5), \n",
    "    high_price real(15,5),\n",
    "    low_price real(15,5), \n",
    "    volume bigint , \n",
    "    PRIMARY KEY (ticker, close_date)\n",
    ")'''"
   ]
  },
  {
   "cell_type": "code",
   "execution_count": 7,
   "id": "a09f86f1",
   "metadata": {},
   "outputs": [],
   "source": [
    "#c.execute(create_daily_price_sql)\n",
    "#db.commit()"
   ]
  },
  {
   "cell_type": "markdown",
   "id": "e6a1699e",
   "metadata": {},
   "source": [
    "### Other Queries for reference"
   ]
  },
  {
   "cell_type": "code",
   "execution_count": 6,
   "id": "d3d32761",
   "metadata": {},
   "outputs": [],
   "source": [
    "#Manage daily_price tables\n",
    "\n",
    "#delete_daily_price_sql = '''DELETE FROM DAILY_PRICE'''\n",
    "#drop_daily_price_sql = '''DROP TABLE DAILY_PRICE'''\n"
   ]
  },
  {
   "cell_type": "code",
   "execution_count": 10,
   "id": "7cf26a21",
   "metadata": {},
   "outputs": [],
   "source": [
    "#query data for the last X number of days from today. This is used to calculate Exponential Mean Average (EMA)\n",
    "queryDate = (dt.datetime.today() - dt.timedelta(days=2)).date()\n",
    "query_daily_price_sql = '''SELECT * from DAILY_PRICE \n",
    "    where close_date < \"''' + str(queryDate) + '''\"'''\n",
    "c.execute(query_daily_price_sql)\n",
    "result = c.fetchall()\n",
    "#print(result)"
   ]
  },
  {
   "cell_type": "code",
   "execution_count": 12,
   "id": "97abacd8",
   "metadata": {},
   "outputs": [],
   "source": [
    "#query data between two dates . This is used to calculate EMA backtesting\n",
    "start_date = dt.datetime.strptime('20211101', \"%Y%m%d\").date()\n",
    "end_date = (dt.datetime.strptime('20211101', \"%Y%m%d\") - dt.timedelta(days=2)).date()\n",
    "\n",
    "query_daily_price_backtest_sql = '''SELECT * from DAILY_PRICE \n",
    "    where close_date between \"''' + str(end_date) + '''\" and \"''' + str(start_date) +'''\"'''\n",
    "\n",
    "c.execute(query_daily_price_backtest_sql)\n",
    "result = c.fetchall()\n",
    "#print(result)"
   ]
  },
  {
   "cell_type": "markdown",
   "id": "9d926dc0",
   "metadata": {},
   "source": [
    "### Technical Indicator tables\n",
    "\n",
    "tech_ind table will store all the technical indicators needed for strategies. Again refer to doc for specific technical indicators needed for each strategies."
   ]
  },
  {
   "cell_type": "code",
   "execution_count": 13,
   "id": "4927b571",
   "metadata": {},
   "outputs": [],
   "source": [
    "create_tech_ind_sql = '''CREATE TABLE IF NOT EXISTS TECH_IND(\n",
    "    ticker TEXT NOT NULL, \n",
    "    run_date date, \n",
    "    ema real(15,5), \n",
    "    rsi real(15,5), \n",
    "    r3 real(15,5),\n",
    "    s3 real(15,5),\n",
    "    PRIMARY KEY (ticker, run_date)\n",
    ")'''"
   ]
  },
  {
   "cell_type": "code",
   "execution_count": 14,
   "id": "0eb6343d",
   "metadata": {},
   "outputs": [],
   "source": [
    "#c.execute(create_tech_ind_sql)\n",
    "#db.commit()"
   ]
  },
  {
   "cell_type": "code",
   "execution_count": 15,
   "id": "23ad4f11",
   "metadata": {},
   "outputs": [],
   "source": [
    "db.close()"
   ]
  },
  {
   "cell_type": "markdown",
   "id": "195dd731",
   "metadata": {},
   "source": [
    "### Intraday Price tables"
   ]
  },
  {
   "cell_type": "code",
   "execution_count": null,
   "id": "0e7eed24",
   "metadata": {},
   "outputs": [],
   "source": [
    "# Table for individual Ticker\n"
   ]
  },
  {
   "cell_type": "code",
   "execution_count": 5,
   "id": "59cbd79e",
   "metadata": {},
   "outputs": [],
   "source": [
    "tickers = ['MSFT', 'APPL', 'TSLA', 'FB', 'BRK', 'NVDA', 'JPM', 'V', 'JNJ', 'UNH', 'WMT', 'BAC', 'PG']\n",
    "for ticker in tickers:\n",
    "    intra_sql = '''CREATE TABLE IF NOT EXISTS TICKER_{} (time datetime primary key, delayed_bid real(15,5),\n",
    "          delayed_ask real(15,5), delayed_last_traded real(15,5), delayed_prior real(15,5))'''.format(ticker)\n",
    "    c.execute(intra_sql)\n",
    "    db.commit()\n"
   ]
  },
  {
   "cell_type": "code",
   "execution_count": null,
   "id": "a91ac5ba",
   "metadata": {},
   "outputs": [],
   "source": []
  }
 ],
 "metadata": {
  "kernelspec": {
   "display_name": "Python 3 (ipykernel)",
   "language": "python",
   "name": "python3"
  },
  "language_info": {
   "codemirror_mode": {
    "name": "ipython",
    "version": 3
   },
   "file_extension": ".py",
   "mimetype": "text/x-python",
   "name": "python",
   "nbconvert_exporter": "python",
   "pygments_lexer": "ipython3",
   "version": "3.8.12"
  }
 },
 "nbformat": 4,
 "nbformat_minor": 5
}
