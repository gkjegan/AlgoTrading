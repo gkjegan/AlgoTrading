{
 "cells": [
  {
   "cell_type": "markdown",
   "id": "5a7e9fb0",
   "metadata": {},
   "source": [
    "# SQLlite3 Tables - LIVE Tables\n",
    "\n",
    "This jupyter notebook is used to setup all necessay tables manually. Refer to https://docs.google.com/document/d/1vlbqEqaOGYHzpRV6Tdrp3lKW2PHheZtgGtp6GqPqdjQ/edit for strategy and table detials"
   ]
  },
  {
   "cell_type": "code",
   "execution_count": 1,
   "id": "374356fb",
   "metadata": {},
   "outputs": [],
   "source": [
    "import sqlite3\n",
    "import datetime as dt"
   ]
  },
  {
   "cell_type": "code",
   "execution_count": 2,
   "id": "cf11038c",
   "metadata": {},
   "outputs": [],
   "source": [
    "db = sqlite3.connect('/Users/jegankarunakaran/AlgoTrading/code/AlgoTrading/db/algotrade_live.db')\n",
    "c = db.cursor()"
   ]
  },
  {
   "cell_type": "markdown",
   "id": "fb471023",
   "metadata": {},
   "source": [
    "### Daily Price table\n",
    "daily_price table will have the historical price data (Open | Close | High | Low | Volume)  with ticker and close date as primary key."
   ]
  },
  {
   "cell_type": "code",
   "execution_count": 3,
   "id": "10dd41de",
   "metadata": {},
   "outputs": [],
   "source": [
    "create_daily_price_sql = '''CREATE TABLE IF NOT EXISTS DAILY_PRICE(\n",
    "    ticker TEXT NOT NULL, \n",
    "    close_date date, \n",
    "    open_price real(15,5), \n",
    "    close_price real(15,5), \n",
    "    high_price real(15,5),\n",
    "    low_price real(15,5), \n",
    "    volume bigint , \n",
    "    PRIMARY KEY (ticker, close_date)\n",
    ")'''"
   ]
  },
  {
   "cell_type": "code",
   "execution_count": 4,
   "id": "a09f86f1",
   "metadata": {},
   "outputs": [],
   "source": [
    "c.execute(create_daily_price_sql)\n",
    "db.commit()"
   ]
  },
  {
   "cell_type": "markdown",
   "id": "9d926dc0",
   "metadata": {},
   "source": [
    "### Technical Indicator table\n",
    "\n",
    "tech_ind table will store all the technical indicators needed for strategies. Again refer to doc for specific technical indicators needed for each strategies."
   ]
  },
  {
   "cell_type": "code",
   "execution_count": 5,
   "id": "a5ce44bc",
   "metadata": {},
   "outputs": [],
   "source": [
    "create_tech_ind_sql = '''CREATE TABLE IF NOT EXISTS TECH_IND(\n",
    "    ticker TEXT NOT NULL, \n",
    "    close_date date, \n",
    "    ema real(15,5), \n",
    "    rsi real(15,5), \n",
    "    r3 real(15,5),\n",
    "    s3 real(15,5),\n",
    "    PRIMARY KEY (ticker, close_date)\n",
    ")'''"
   ]
  },
  {
   "cell_type": "code",
   "execution_count": 6,
   "id": "0eb6343d",
   "metadata": {},
   "outputs": [],
   "source": [
    "c.execute(create_tech_ind_sql)\n",
    "db.commit()"
   ]
  },
  {
   "cell_type": "markdown",
   "id": "195dd731",
   "metadata": {},
   "source": [
    "### No Intraday Price tables required for Now"
   ]
  },
  {
   "cell_type": "markdown",
   "id": "9694417f",
   "metadata": {},
   "source": [
    "### Transaction table"
   ]
  },
  {
   "cell_type": "code",
   "execution_count": 7,
   "id": "1711ebb1",
   "metadata": {},
   "outputs": [],
   "source": [
    "create_transaction_sql = '''CREATE TABLE IF NOT EXISTS TRADE_TRANSACTION (\n",
    "    transaction_id integer primary key AUTOINCREMENT, \n",
    "    strategy_name text not null, \n",
    "    ticker text not null, \n",
    "    tech_indicator text, \n",
    "    action text,\n",
    "    unit_price real(15,5), \n",
    "    quantity int, \n",
    "    total_price real(15,5),     \n",
    "    status int,\n",
    "    time datetime\n",
    ")'''"
   ]
  },
  {
   "cell_type": "code",
   "execution_count": 8,
   "id": "652b3dab",
   "metadata": {},
   "outputs": [],
   "source": [
    "c.execute(create_transaction_sql)\n",
    "db.commit()"
   ]
  },
  {
   "cell_type": "markdown",
   "id": "d50a241c",
   "metadata": {},
   "source": [
    "### Portfolio table"
   ]
  },
  {
   "cell_type": "code",
   "execution_count": 13,
   "id": "70993054",
   "metadata": {},
   "outputs": [],
   "source": [
    "create_portfolio_sql = '''CREATE TABLE IF NOT EXISTS PORTFOLIO (\n",
    "    strategy_name text not null, \n",
    "    ticker text not null, \n",
    "    active_stocks int, \n",
    "    total_price real(15,5), \n",
    "    profit real(15,5),\n",
    "    time datetime,\n",
    "    PRIMARY KEY (strategy_name, ticker)\n",
    ")'''"
   ]
  },
  {
   "cell_type": "code",
   "execution_count": 14,
   "id": "58310a2e",
   "metadata": {},
   "outputs": [],
   "source": [
    "c.execute(create_portfolio_sql)\n",
    "db.commit()"
   ]
  },
  {
   "cell_type": "markdown",
   "id": "4e44ec15",
   "metadata": {},
   "source": [
    "### Populate Initial Portfolio Values"
   ]
  },
  {
   "cell_type": "code",
   "execution_count": 15,
   "id": "94dcabed",
   "metadata": {},
   "outputs": [],
   "source": [
    "tickers = ['AAPL', 'MSFT', 'TSLA', 'FB', 'NVDA', 'JPM', 'V', 'JNJ', 'UNH', 'WMT', 'BAC', 'PG']\n",
    "#tickers = ['CASH']\n",
    "for ticker in tickers:\n",
    "    try:\n",
    "        vals = [ticker, 0, 0, 0]\n",
    "        query = \"INSERT INTO PORTFOLIO(strategy_name, ticker, active_stocks,total_price, profit, time) VALUES ('ema_rsi_camarilla',?,?,?,?,CURRENT_TIMESTAMP)\"\n",
    "        c.execute(query,vals)\n",
    "    except Exception as e:\n",
    "            print(\"db error {}\".format(e))\n",
    "try:\n",
    "    db.commit()\n",
    "except:\n",
    "    db.rollback()\n"
   ]
  },
  {
   "cell_type": "code",
   "execution_count": 12,
   "id": "09c549e8",
   "metadata": {},
   "outputs": [],
   "source": [
    "#tickers = ['AAPL', 'MSFT', 'TSLA', 'FB', 'NVDA', 'JPM', 'V', 'JNJ', 'UNH', 'WMT', 'BAC', 'PG']\n",
    "tickers = ['CASH']\n",
    "for ticker in tickers:\n",
    "    try:\n",
    "        vals = [ticker, 0, 10000, 0]\n",
    "        query = \"INSERT INTO PORTFOLIO(strategy_name, ticker, active_stocks,total_price, profit, time) VALUES ('ema_rsi_camarilla',?,?,?,?,CURRENT_TIMESTAMP)\"\n",
    "        c.execute(query,vals)\n",
    "    except Exception as e:\n",
    "            print(\"db error {}\".format(e))\n",
    "try:\n",
    "    db.commit()\n",
    "except:\n",
    "    db.rollback()"
   ]
  },
  {
   "cell_type": "code",
   "execution_count": null,
   "id": "7c0c9041",
   "metadata": {},
   "outputs": [],
   "source": []
  },
  {
   "cell_type": "code",
   "execution_count": null,
   "id": "b14a5cfd",
   "metadata": {},
   "outputs": [],
   "source": []
  },
  {
   "cell_type": "code",
   "execution_count": null,
   "id": "2c2b5be6",
   "metadata": {},
   "outputs": [],
   "source": []
  },
  {
   "cell_type": "code",
   "execution_count": null,
   "id": "089862ad",
   "metadata": {},
   "outputs": [],
   "source": []
  },
  {
   "cell_type": "code",
   "execution_count": null,
   "id": "6ed4da67",
   "metadata": {},
   "outputs": [],
   "source": []
  },
  {
   "cell_type": "code",
   "execution_count": null,
   "id": "565737e5",
   "metadata": {},
   "outputs": [],
   "source": []
  },
  {
   "cell_type": "code",
   "execution_count": null,
   "id": "1fdf3ab7",
   "metadata": {},
   "outputs": [],
   "source": []
  }
 ],
 "metadata": {
  "kernelspec": {
   "display_name": "Python 3 (ipykernel)",
   "language": "python",
   "name": "python3"
  },
  "language_info": {
   "codemirror_mode": {
    "name": "ipython",
    "version": 3
   },
   "file_extension": ".py",
   "mimetype": "text/x-python",
   "name": "python",
   "nbconvert_exporter": "python",
   "pygments_lexer": "ipython3",
   "version": "3.8.12"
  }
 },
 "nbformat": 4,
 "nbformat_minor": 5
}
