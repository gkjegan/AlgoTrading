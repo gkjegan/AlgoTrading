{
 "cells": [
  {
   "cell_type": "markdown",
   "id": "e84aa3d4",
   "metadata": {},
   "source": [
    "# Intraday Price Load\n",
    "\n",
    "\n",
    "This notebook is to manualy load the intraday prices for backtesting. Getting data dump for intraday prices is challenging. Able to get some sample data from https://firstratedata.com/ "
   ]
  },
  {
   "cell_type": "code",
   "execution_count": 1,
   "id": "16b0ee26",
   "metadata": {},
   "outputs": [],
   "source": [
    "import pandas as pd\n",
    "import sqlite3\n",
    "import datetime as dt"
   ]
  },
  {
   "cell_type": "code",
   "execution_count": 2,
   "id": "1a1acb42",
   "metadata": {},
   "outputs": [],
   "source": [
    "db = sqlite3.connect('/Users/jegankarunakaran/AlgoTrading/code/AlgoTrading/strategies/db/ema_rsi_camarilla.db')\n",
    "c = db.cursor()"
   ]
  },
  {
   "cell_type": "markdown",
   "id": "9e1ade8e",
   "metadata": {},
   "source": [
    "### Load all intraday data"
   ]
  },
  {
   "cell_type": "code",
   "execution_count": 3,
   "id": "e41cbd95",
   "metadata": {},
   "outputs": [],
   "source": [
    "header_list = ['high', 'low', 'open', 'close', 'volume']\n",
    "fb_intra = pd.read_csv('/Users/jegankarunakaran/AlgoTrading/data/intraday/FB_stock_sample/FB_30min_sample.txt', \n",
    "                       names=header_list)\n",
    "msft_intra = pd.read_csv('/Users/jegankarunakaran/AlgoTrading/data/intraday/MSFT_stock_sample/MSFT_30min_sample.txt',\n",
    "                         names=header_list)"
   ]
  },
  {
   "cell_type": "code",
   "execution_count": 4,
   "id": "e3d595e6",
   "metadata": {},
   "outputs": [
    {
     "data": {
      "text/html": [
       "<div>\n",
       "<style scoped>\n",
       "    .dataframe tbody tr th:only-of-type {\n",
       "        vertical-align: middle;\n",
       "    }\n",
       "\n",
       "    .dataframe tbody tr th {\n",
       "        vertical-align: top;\n",
       "    }\n",
       "\n",
       "    .dataframe thead th {\n",
       "        text-align: right;\n",
       "    }\n",
       "</style>\n",
       "<table border=\"1\" class=\"dataframe\">\n",
       "  <thead>\n",
       "    <tr style=\"text-align: right;\">\n",
       "      <th></th>\n",
       "      <th>high</th>\n",
       "      <th>low</th>\n",
       "      <th>open</th>\n",
       "      <th>close</th>\n",
       "      <th>volume</th>\n",
       "    </tr>\n",
       "  </thead>\n",
       "  <tbody>\n",
       "    <tr>\n",
       "      <th>2021-08-02 04:00:00</th>\n",
       "      <td>358.94</td>\n",
       "      <td>358.94</td>\n",
       "      <td>358.50</td>\n",
       "      <td>358.5</td>\n",
       "      <td>400</td>\n",
       "    </tr>\n",
       "    <tr>\n",
       "      <th>2021-08-02 04:30:00</th>\n",
       "      <td>358.60</td>\n",
       "      <td>358.60</td>\n",
       "      <td>358.60</td>\n",
       "      <td>358.6</td>\n",
       "      <td>200</td>\n",
       "    </tr>\n",
       "    <tr>\n",
       "      <th>2021-08-02 05:30:00</th>\n",
       "      <td>358.50</td>\n",
       "      <td>358.50</td>\n",
       "      <td>358.50</td>\n",
       "      <td>358.5</td>\n",
       "      <td>354</td>\n",
       "    </tr>\n",
       "    <tr>\n",
       "      <th>2021-08-02 06:00:00</th>\n",
       "      <td>358.58</td>\n",
       "      <td>358.95</td>\n",
       "      <td>358.58</td>\n",
       "      <td>358.7</td>\n",
       "      <td>1885</td>\n",
       "    </tr>\n",
       "    <tr>\n",
       "      <th>2021-08-02 06:30:00</th>\n",
       "      <td>358.99</td>\n",
       "      <td>358.99</td>\n",
       "      <td>358.70</td>\n",
       "      <td>358.7</td>\n",
       "      <td>300</td>\n",
       "    </tr>\n",
       "  </tbody>\n",
       "</table>\n",
       "</div>"
      ],
      "text/plain": [
       "                       high     low    open  close  volume\n",
       "2021-08-02 04:00:00  358.94  358.94  358.50  358.5     400\n",
       "2021-08-02 04:30:00  358.60  358.60  358.60  358.6     200\n",
       "2021-08-02 05:30:00  358.50  358.50  358.50  358.5     354\n",
       "2021-08-02 06:00:00  358.58  358.95  358.58  358.7    1885\n",
       "2021-08-02 06:30:00  358.99  358.99  358.70  358.7     300"
      ]
     },
     "execution_count": 4,
     "metadata": {},
     "output_type": "execute_result"
    }
   ],
   "source": [
    "fb_intra.head()"
   ]
  },
  {
   "cell_type": "code",
   "execution_count": 5,
   "id": "8c1a8279",
   "metadata": {},
   "outputs": [
    {
     "data": {
      "text/html": [
       "<div>\n",
       "<style scoped>\n",
       "    .dataframe tbody tr th:only-of-type {\n",
       "        vertical-align: middle;\n",
       "    }\n",
       "\n",
       "    .dataframe tbody tr th {\n",
       "        vertical-align: top;\n",
       "    }\n",
       "\n",
       "    .dataframe thead th {\n",
       "        text-align: right;\n",
       "    }\n",
       "</style>\n",
       "<table border=\"1\" class=\"dataframe\">\n",
       "  <thead>\n",
       "    <tr style=\"text-align: right;\">\n",
       "      <th></th>\n",
       "      <th>high</th>\n",
       "      <th>low</th>\n",
       "      <th>open</th>\n",
       "      <th>close</th>\n",
       "      <th>volume</th>\n",
       "    </tr>\n",
       "  </thead>\n",
       "  <tbody>\n",
       "    <tr>\n",
       "      <th>2021-08-02 04:00:00</th>\n",
       "      <td>286.70</td>\n",
       "      <td>286.98</td>\n",
       "      <td>286.50</td>\n",
       "      <td>286.53</td>\n",
       "      <td>1227</td>\n",
       "    </tr>\n",
       "    <tr>\n",
       "      <th>2021-08-02 05:00:00</th>\n",
       "      <td>286.84</td>\n",
       "      <td>286.85</td>\n",
       "      <td>286.50</td>\n",
       "      <td>286.50</td>\n",
       "      <td>1846</td>\n",
       "    </tr>\n",
       "    <tr>\n",
       "      <th>2021-08-02 05:30:00</th>\n",
       "      <td>286.70</td>\n",
       "      <td>286.70</td>\n",
       "      <td>286.70</td>\n",
       "      <td>286.70</td>\n",
       "      <td>468</td>\n",
       "    </tr>\n",
       "    <tr>\n",
       "      <th>2021-08-02 06:00:00</th>\n",
       "      <td>286.55</td>\n",
       "      <td>286.55</td>\n",
       "      <td>286.30</td>\n",
       "      <td>286.30</td>\n",
       "      <td>1449</td>\n",
       "    </tr>\n",
       "    <tr>\n",
       "      <th>2021-08-02 06:30:00</th>\n",
       "      <td>286.37</td>\n",
       "      <td>286.37</td>\n",
       "      <td>286.28</td>\n",
       "      <td>286.28</td>\n",
       "      <td>243</td>\n",
       "    </tr>\n",
       "  </tbody>\n",
       "</table>\n",
       "</div>"
      ],
      "text/plain": [
       "                       high     low    open   close  volume\n",
       "2021-08-02 04:00:00  286.70  286.98  286.50  286.53    1227\n",
       "2021-08-02 05:00:00  286.84  286.85  286.50  286.50    1846\n",
       "2021-08-02 05:30:00  286.70  286.70  286.70  286.70     468\n",
       "2021-08-02 06:00:00  286.55  286.55  286.30  286.30    1449\n",
       "2021-08-02 06:30:00  286.37  286.37  286.28  286.28     243"
      ]
     },
     "execution_count": 5,
     "metadata": {},
     "output_type": "execute_result"
    }
   ],
   "source": [
    "msft_intra.head()"
   ]
  },
  {
   "cell_type": "markdown",
   "id": "6d496ff6",
   "metadata": {},
   "source": [
    "### Create individual table for each ticker"
   ]
  },
  {
   "cell_type": "code",
   "execution_count": 12,
   "id": "4228b69e",
   "metadata": {},
   "outputs": [],
   "source": [
    "tickers = ['FB', 'MSFT']\n",
    "for ticker in tickers:\n",
    "    c.execute(\"CREATE TABLE IF NOT EXISTS TICKER_{} (time datetime primary key,price real(15,5), volume integer)\"\n",
    "              .format(ticker))\n",
    "    try:\n",
    "        db.commit()\n",
    "    except:\n",
    "        db.rollback()   "
   ]
  },
  {
   "cell_type": "markdown",
   "id": "d3da56d7",
   "metadata": {},
   "source": [
    "### Load data for each ticker table"
   ]
  },
  {
   "cell_type": "code",
   "execution_count": 8,
   "id": "e9e19987",
   "metadata": {},
   "outputs": [],
   "source": [
    "for index, item in fb_intra.iterrows():\n",
    "    try:\n",
    "        vals = [dt.datetime.strptime(index, \"%Y-%m-%d %H:%M:%S\"), item['close']]\n",
    "        query = \"INSERT INTO TICKER_FB(time,delayed_bid,delayed_ask,delayed_last_traded, delayed_prior) VALUES (?,0,0,?,0)\"\n",
    "        c.execute(query,vals)\n",
    "    except Exception as e:\n",
    "            print(\"db error {}\".format(e))\n",
    "try:\n",
    "    db.commit()\n",
    "except:\n",
    "    db.rollback()"
   ]
  },
  {
   "cell_type": "code",
   "execution_count": 9,
   "id": "d1963bb3",
   "metadata": {},
   "outputs": [],
   "source": [
    "for index, item in msft_intra.iterrows():\n",
    "    try:\n",
    "        vals = [dt.datetime.strptime(index, \"%Y-%m-%d %H:%M:%S\"), item['close']]\n",
    "        query = \"INSERT INTO TICKER_MSFT(time,delayed_bid,delayed_ask,delayed_last_traded, delayed_prior) VALUES (?,0,0,?,0)\"\n",
    "        c.execute(query,vals)\n",
    "    except Exception as e:\n",
    "            print(\"db error {}\".format(e))\n",
    "try:\n",
    "    db.commit()\n",
    "except:\n",
    "    db.rollback()"
   ]
  },
  {
   "cell_type": "code",
   "execution_count": null,
   "id": "d817f844",
   "metadata": {},
   "outputs": [],
   "source": []
  },
  {
   "cell_type": "code",
   "execution_count": null,
   "id": "618d77fe",
   "metadata": {},
   "outputs": [],
   "source": []
  }
 ],
 "metadata": {
  "kernelspec": {
   "display_name": "Python 3 (ipykernel)",
   "language": "python",
   "name": "python3"
  },
  "language_info": {
   "codemirror_mode": {
    "name": "ipython",
    "version": 3
   },
   "file_extension": ".py",
   "mimetype": "text/x-python",
   "name": "python",
   "nbconvert_exporter": "python",
   "pygments_lexer": "ipython3",
   "version": "3.8.12"
  }
 },
 "nbformat": 4,
 "nbformat_minor": 5
}
