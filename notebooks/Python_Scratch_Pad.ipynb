{
 "cells": [
  {
   "cell_type": "code",
   "execution_count": 3,
   "id": "f12881fb",
   "metadata": {},
   "outputs": [],
   "source": [
    "data = {0: {'delayed_bid': 340.25, 'delayed_ask': 340.4, 'delayed_last_traded': 340.4, 'delayed_prior close': 327.74},\n",
    "       1: {'delayed_bid': 340.25, 'delayed_ask': 340.4, 'delayed_last_traded': 340.4, 'delayed_prior close': 327.74}}"
   ]
  },
  {
   "cell_type": "code",
   "execution_count": 6,
   "id": "4717c20e",
   "metadata": {},
   "outputs": [
    {
     "name": "stdout",
     "output_type": "stream",
     "text": [
      "{'delayed_bid': 340.25, 'delayed_ask': 340.4, 'delayed_last_traded': 340.4, 'delayed_prior close': 327.74}\n",
      "340.25\n",
      "{'delayed_bid': 340.25, 'delayed_ask': 340.4, 'delayed_last_traded': 340.4, 'delayed_prior close': 327.74}\n",
      "340.25\n"
     ]
    }
   ],
   "source": [
    "for items in data:\n",
    "    print(data[items])\n",
    "    print(data[items]['delayed_bid'])    "
   ]
  },
  {
   "cell_type": "code",
   "execution_count": 1,
   "id": "5f5e8a6e",
   "metadata": {},
   "outputs": [],
   "source": [
    "import pandas as pd"
   ]
  },
  {
   "cell_type": "code",
   "execution_count": 2,
   "id": "f12f9466",
   "metadata": {},
   "outputs": [],
   "source": [
    "pd_1 = pd.DataFrame()"
   ]
  },
  {
   "cell_type": "code",
   "execution_count": 3,
   "id": "600bc41d",
   "metadata": {},
   "outputs": [],
   "source": [
    "pd_1['action'] = \"BUY\""
   ]
  },
  {
   "cell_type": "code",
   "execution_count": 8,
   "id": "b224f21c",
   "metadata": {},
   "outputs": [
    {
     "data": {
      "text/html": [
       "<div>\n",
       "<style scoped>\n",
       "    .dataframe tbody tr th:only-of-type {\n",
       "        vertical-align: middle;\n",
       "    }\n",
       "\n",
       "    .dataframe tbody tr th {\n",
       "        vertical-align: top;\n",
       "    }\n",
       "\n",
       "    .dataframe thead th {\n",
       "        text-align: right;\n",
       "    }\n",
       "</style>\n",
       "<table border=\"1\" class=\"dataframe\">\n",
       "  <thead>\n",
       "    <tr style=\"text-align: right;\">\n",
       "      <th></th>\n",
       "      <th>action</th>\n",
       "    </tr>\n",
       "  </thead>\n",
       "  <tbody>\n",
       "  </tbody>\n",
       "</table>\n",
       "</div>"
      ],
      "text/plain": [
       "Empty DataFrame\n",
       "Columns: [action]\n",
       "Index: []"
      ]
     },
     "execution_count": 8,
     "metadata": {},
     "output_type": "execute_result"
    }
   ],
   "source": [
    "pd_1.head()"
   ]
  },
  {
   "cell_type": "code",
   "execution_count": 1,
   "id": "5ff26cf1",
   "metadata": {},
   "outputs": [],
   "source": [
    "tickers = ['MSFT', 'APPL', 'TSLA', 'FB', 'BRK.B', 'NVDA', 'JPM', 'V', 'JNJ', 'UNH', 'WMT', 'BAC', 'PG']"
   ]
  },
  {
   "cell_type": "code",
   "execution_count": 2,
   "id": "a07fcf92",
   "metadata": {},
   "outputs": [
    {
     "name": "stdout",
     "output_type": "stream",
     "text": [
      "0\n",
      "1\n",
      "2\n",
      "3\n",
      "4\n",
      "5\n",
      "6\n",
      "7\n",
      "8\n",
      "9\n",
      "10\n",
      "11\n",
      "12\n"
     ]
    }
   ],
   "source": [
    "for ticker in tickers:\n",
    "    print(tickers.index(ticker))"
   ]
  },
  {
   "cell_type": "code",
   "execution_count": 8,
   "id": "cc096699",
   "metadata": {},
   "outputs": [],
   "source": [
    "data = {0: {'delayed_last_traded': 336.29, 'delayed_prior': 336.72, 'delayed_bid': 336.07, 'delayed_ask': 336.24}, 1: {'delayed_bid': 1010.52, 'delayed_ask': 1011.95, 'delayed_prior': 1033.42}, 2: {'delayed_bid': 347.1, 'delayed_ask': 348.6, 'delayed_prior': 340.89}, 3: {'delayed_last_traded': 300.18, 'delayed_prior': 303.9, 'delayed_bid': 300.0, 'delayed_ask': 300.3}, 4: {'delayed_last_traded': 166.69, 'delayed_prior': 166.86, 'delayed_bid': 166.56, 'delayed_ask': 166.69}, 5: {'delayed_prior': 212.09, 'delayed_last_traded': 212.3, 'delayed_bid': 212.32, 'delayed_ask': 212.59}, 6: {'delayed_last_traded': 163.52, 'delayed_prior': 165.01, 'delayed_bid': 163.19, 'delayed_ask': 163.53}, 7: {'delayed_last_traded': 450.8, 'delayed_prior': 458.99, 'delayed_bid': 451.1, 'delayed_ask': 452.4}, 8: {'delayed_last_traded': 146.93, 'delayed_prior': 147.76, 'delayed_bid': 146.9, 'delayed_ask': 146.93}, 9: {'delayed_last_traded': 47.05, 'delayed_prior': 46.91, 'delayed_bid': 47.05, 'delayed_ask': 47.06}, 10: {'delayed_last_traded': 147.4, 'delayed_prior': 146.56, 'delayed_bid': 147.0, 'delayed_ask': 147.9}, 11: {}}"
   ]
  },
  {
   "cell_type": "code",
   "execution_count": 6,
   "id": "cddcd361",
   "metadata": {},
   "outputs": [
    {
     "data": {
      "text/plain": [
       "{0: {'delayed_last_traded': 336.29,\n",
       "  'delayed_prior': 336.72,\n",
       "  'delayed_bid': 336.07,\n",
       "  'delayed_ask': 336.24},\n",
       " 1: {'delayed_bid': 1010.52, 'delayed_ask': 1011.95, 'delayed_prior': 1033.42},\n",
       " 2: {'delayed_bid': 347.1, 'delayed_ask': 348.6, 'delayed_prior': 340.89},\n",
       " 3: {'delayed_last_traded': 300.18,\n",
       "  'delayed_prior': 303.9,\n",
       "  'delayed_bid': 300.0,\n",
       "  'delayed_ask': 300.3},\n",
       " 4: {'delayed_last_traded': 166.69,\n",
       "  'delayed_prior': 166.86,\n",
       "  'delayed_bid': 166.56,\n",
       "  'delayed_ask': 166.69},\n",
       " 5: {'delayed_prior': 212.09,\n",
       "  'delayed_last_traded': 212.3,\n",
       "  'delayed_bid': 212.32,\n",
       "  'delayed_ask': 212.59},\n",
       " 6: {'delayed_last_traded': 163.52,\n",
       "  'delayed_prior': 165.01,\n",
       "  'delayed_bid': 163.19,\n",
       "  'delayed_ask': 163.53},\n",
       " 7: {'delayed_last_traded': 450.8,\n",
       "  'delayed_prior': 458.99,\n",
       "  'delayed_bid': 451.1,\n",
       "  'delayed_ask': 452.4},\n",
       " 8: {'delayed_last_traded': 146.93,\n",
       "  'delayed_prior': 147.76,\n",
       "  'delayed_bid': 146.9,\n",
       "  'delayed_ask': 146.93},\n",
       " 9: {'delayed_last_traded': 47.05,\n",
       "  'delayed_prior': 46.91,\n",
       "  'delayed_bid': 47.05,\n",
       "  'delayed_ask': 47.06},\n",
       " 10: {'delayed_last_traded': 147.4,\n",
       "  'delayed_prior': 146.56,\n",
       "  'delayed_bid': 147.0,\n",
       "  'delayed_ask': 147.9},\n",
       " 11: {}}"
      ]
     },
     "execution_count": 6,
     "metadata": {},
     "output_type": "execute_result"
    }
   ],
   "source": [
    "data"
   ]
  },
  {
   "cell_type": "code",
   "execution_count": 8,
   "id": "24ace9cd",
   "metadata": {},
   "outputs": [
    {
     "name": "stdout",
     "output_type": "stream",
     "text": [
      "{'delayed_last_traded': 336.29, 'delayed_prior': 336.72, 'delayed_bid': 336.07, 'delayed_ask': 336.24}\n",
      "{'delayed_last_traded': 336.29, 'delayed_prior': 336.72, 'delayed_bid': 336.07, 'delayed_ask': 336.24}\n",
      "{'delayed_bid': 1010.52, 'delayed_ask': 1011.95, 'delayed_prior': 1033.42}\n",
      "{'delayed_bid': 1010.52, 'delayed_ask': 1011.95, 'delayed_prior': 1033.42}\n",
      "{'delayed_bid': 347.1, 'delayed_ask': 348.6, 'delayed_prior': 340.89}\n",
      "{'delayed_bid': 347.1, 'delayed_ask': 348.6, 'delayed_prior': 340.89}\n",
      "{'delayed_last_traded': 300.18, 'delayed_prior': 303.9, 'delayed_bid': 300.0, 'delayed_ask': 300.3}\n",
      "{'delayed_last_traded': 300.18, 'delayed_prior': 303.9, 'delayed_bid': 300.0, 'delayed_ask': 300.3}\n",
      "{'delayed_last_traded': 166.69, 'delayed_prior': 166.86, 'delayed_bid': 166.56, 'delayed_ask': 166.69}\n",
      "{'delayed_last_traded': 166.69, 'delayed_prior': 166.86, 'delayed_bid': 166.56, 'delayed_ask': 166.69}\n",
      "{'delayed_prior': 212.09, 'delayed_last_traded': 212.3, 'delayed_bid': 212.32, 'delayed_ask': 212.59}\n",
      "{'delayed_prior': 212.09, 'delayed_last_traded': 212.3, 'delayed_bid': 212.32, 'delayed_ask': 212.59}\n",
      "{'delayed_last_traded': 163.52, 'delayed_prior': 165.01, 'delayed_bid': 163.19, 'delayed_ask': 163.53}\n",
      "{'delayed_last_traded': 163.52, 'delayed_prior': 165.01, 'delayed_bid': 163.19, 'delayed_ask': 163.53}\n",
      "{'delayed_last_traded': 450.8, 'delayed_prior': 458.99, 'delayed_bid': 451.1, 'delayed_ask': 452.4}\n",
      "{'delayed_last_traded': 450.8, 'delayed_prior': 458.99, 'delayed_bid': 451.1, 'delayed_ask': 452.4}\n",
      "{'delayed_last_traded': 146.93, 'delayed_prior': 147.76, 'delayed_bid': 146.9, 'delayed_ask': 146.93}\n",
      "{'delayed_last_traded': 146.93, 'delayed_prior': 147.76, 'delayed_bid': 146.9, 'delayed_ask': 146.93}\n",
      "{'delayed_last_traded': 47.05, 'delayed_prior': 46.91, 'delayed_bid': 47.05, 'delayed_ask': 47.06}\n",
      "{'delayed_last_traded': 47.05, 'delayed_prior': 46.91, 'delayed_bid': 47.05, 'delayed_ask': 47.06}\n",
      "{'delayed_last_traded': 147.4, 'delayed_prior': 146.56, 'delayed_bid': 147.0, 'delayed_ask': 147.9}\n",
      "{'delayed_last_traded': 147.4, 'delayed_prior': 146.56, 'delayed_bid': 147.0, 'delayed_ask': 147.9}\n",
      "{}\n"
     ]
    }
   ],
   "source": [
    "for items in data:\n",
    "    delayed_last_traded = 0\n",
    "    delayed_bid = 0\n",
    "    delayed_ask = 0\n",
    "    delayed_prior = 0\n",
    "    \n",
    "    if data[items]:\n",
    "        if 'delayed_last_traded' in data[items]:\n",
    "            delayed_last_traded = \n",
    "        print(data[items])"
   ]
  },
  {
   "cell_type": "code",
   "execution_count": 2,
   "id": "d9a0073d",
   "metadata": {},
   "outputs": [],
   "source": [
    "import datetime as dt"
   ]
  },
  {
   "cell_type": "code",
   "execution_count": 8,
   "id": "06f09ac1",
   "metadata": {},
   "outputs": [],
   "source": [
    "queryDate = (dt.datetime.today() - dt.timedelta(days=3)).date()\n",
    "query_daily_price_sql = '''SELECT * from DAILY_PRICE  where run_date > \"'''+str(queryDate)+'''\" ''' "
   ]
  },
  {
   "cell_type": "code",
   "execution_count": 9,
   "id": "3c340e2b",
   "metadata": {},
   "outputs": [
    {
     "name": "stdout",
     "output_type": "stream",
     "text": [
      "SELECT * from DAILY_PRICE  where run_date > \"2021-11-13\" \n"
     ]
    }
   ],
   "source": [
    "print(query_daily_price_sql)"
   ]
  },
  {
   "cell_type": "code",
   "execution_count": null,
   "id": "2250c1fe",
   "metadata": {},
   "outputs": [],
   "source": [
    "'''SELECT * from DAILY_PRICE where close_date >= date('now', '-4 days')  '''"
   ]
  },
  {
   "cell_type": "code",
   "execution_count": 9,
   "id": "a427a5bb",
   "metadata": {},
   "outputs": [],
   "source": [
    "check_pd = pd.DataFrame(data)"
   ]
  },
  {
   "cell_type": "code",
   "execution_count": 10,
   "id": "592bc550",
   "metadata": {},
   "outputs": [
    {
     "data": {
      "text/html": [
       "<div>\n",
       "<style scoped>\n",
       "    .dataframe tbody tr th:only-of-type {\n",
       "        vertical-align: middle;\n",
       "    }\n",
       "\n",
       "    .dataframe tbody tr th {\n",
       "        vertical-align: top;\n",
       "    }\n",
       "\n",
       "    .dataframe thead th {\n",
       "        text-align: right;\n",
       "    }\n",
       "</style>\n",
       "<table border=\"1\" class=\"dataframe\">\n",
       "  <thead>\n",
       "    <tr style=\"text-align: right;\">\n",
       "      <th></th>\n",
       "      <th>0</th>\n",
       "      <th>1</th>\n",
       "      <th>2</th>\n",
       "      <th>3</th>\n",
       "      <th>4</th>\n",
       "      <th>5</th>\n",
       "      <th>6</th>\n",
       "      <th>7</th>\n",
       "      <th>8</th>\n",
       "      <th>9</th>\n",
       "      <th>10</th>\n",
       "      <th>11</th>\n",
       "    </tr>\n",
       "  </thead>\n",
       "  <tbody>\n",
       "    <tr>\n",
       "      <th>delayed_last_traded</th>\n",
       "      <td>336.29</td>\n",
       "      <td>NaN</td>\n",
       "      <td>NaN</td>\n",
       "      <td>300.18</td>\n",
       "      <td>166.69</td>\n",
       "      <td>212.30</td>\n",
       "      <td>163.52</td>\n",
       "      <td>450.80</td>\n",
       "      <td>146.93</td>\n",
       "      <td>47.05</td>\n",
       "      <td>147.40</td>\n",
       "      <td>NaN</td>\n",
       "    </tr>\n",
       "    <tr>\n",
       "      <th>delayed_prior</th>\n",
       "      <td>336.72</td>\n",
       "      <td>1033.42</td>\n",
       "      <td>340.89</td>\n",
       "      <td>303.90</td>\n",
       "      <td>166.86</td>\n",
       "      <td>212.09</td>\n",
       "      <td>165.01</td>\n",
       "      <td>458.99</td>\n",
       "      <td>147.76</td>\n",
       "      <td>46.91</td>\n",
       "      <td>146.56</td>\n",
       "      <td>NaN</td>\n",
       "    </tr>\n",
       "    <tr>\n",
       "      <th>delayed_bid</th>\n",
       "      <td>336.07</td>\n",
       "      <td>1010.52</td>\n",
       "      <td>347.10</td>\n",
       "      <td>300.00</td>\n",
       "      <td>166.56</td>\n",
       "      <td>212.32</td>\n",
       "      <td>163.19</td>\n",
       "      <td>451.10</td>\n",
       "      <td>146.90</td>\n",
       "      <td>47.05</td>\n",
       "      <td>147.00</td>\n",
       "      <td>NaN</td>\n",
       "    </tr>\n",
       "    <tr>\n",
       "      <th>delayed_ask</th>\n",
       "      <td>336.24</td>\n",
       "      <td>1011.95</td>\n",
       "      <td>348.60</td>\n",
       "      <td>300.30</td>\n",
       "      <td>166.69</td>\n",
       "      <td>212.59</td>\n",
       "      <td>163.53</td>\n",
       "      <td>452.40</td>\n",
       "      <td>146.93</td>\n",
       "      <td>47.06</td>\n",
       "      <td>147.90</td>\n",
       "      <td>NaN</td>\n",
       "    </tr>\n",
       "  </tbody>\n",
       "</table>\n",
       "</div>"
      ],
      "text/plain": [
       "                         0        1       2       3       4       5       6   \\\n",
       "delayed_last_traded  336.29      NaN     NaN  300.18  166.69  212.30  163.52   \n",
       "delayed_prior        336.72  1033.42  340.89  303.90  166.86  212.09  165.01   \n",
       "delayed_bid          336.07  1010.52  347.10  300.00  166.56  212.32  163.19   \n",
       "delayed_ask          336.24  1011.95  348.60  300.30  166.69  212.59  163.53   \n",
       "\n",
       "                         7       8      9       10  11  \n",
       "delayed_last_traded  450.80  146.93  47.05  147.40 NaN  \n",
       "delayed_prior        458.99  147.76  46.91  146.56 NaN  \n",
       "delayed_bid          451.10  146.90  47.05  147.00 NaN  \n",
       "delayed_ask          452.40  146.93  47.06  147.90 NaN  "
      ]
     },
     "execution_count": 10,
     "metadata": {},
     "output_type": "execute_result"
    }
   ],
   "source": [
    "check_pd"
   ]
  },
  {
   "cell_type": "code",
   "execution_count": 14,
   "id": "fbbf5cbd",
   "metadata": {},
   "outputs": [],
   "source": [
    "check_pd['action'] = \"buy\""
   ]
  },
  {
   "cell_type": "code",
   "execution_count": 15,
   "id": "a43e8501",
   "metadata": {},
   "outputs": [
    {
     "data": {
      "text/html": [
       "<div>\n",
       "<style scoped>\n",
       "    .dataframe tbody tr th:only-of-type {\n",
       "        vertical-align: middle;\n",
       "    }\n",
       "\n",
       "    .dataframe tbody tr th {\n",
       "        vertical-align: top;\n",
       "    }\n",
       "\n",
       "    .dataframe thead th {\n",
       "        text-align: right;\n",
       "    }\n",
       "</style>\n",
       "<table border=\"1\" class=\"dataframe\">\n",
       "  <thead>\n",
       "    <tr style=\"text-align: right;\">\n",
       "      <th></th>\n",
       "      <th>0</th>\n",
       "      <th>1</th>\n",
       "      <th>2</th>\n",
       "      <th>3</th>\n",
       "      <th>4</th>\n",
       "      <th>5</th>\n",
       "      <th>6</th>\n",
       "      <th>7</th>\n",
       "      <th>8</th>\n",
       "      <th>9</th>\n",
       "      <th>10</th>\n",
       "      <th>11</th>\n",
       "      <th>action</th>\n",
       "    </tr>\n",
       "  </thead>\n",
       "  <tbody>\n",
       "    <tr>\n",
       "      <th>delayed_last_traded</th>\n",
       "      <td>336.29</td>\n",
       "      <td>NaN</td>\n",
       "      <td>NaN</td>\n",
       "      <td>300.18</td>\n",
       "      <td>166.69</td>\n",
       "      <td>212.30</td>\n",
       "      <td>163.52</td>\n",
       "      <td>450.80</td>\n",
       "      <td>146.93</td>\n",
       "      <td>47.05</td>\n",
       "      <td>147.40</td>\n",
       "      <td>NaN</td>\n",
       "      <td>buy</td>\n",
       "    </tr>\n",
       "    <tr>\n",
       "      <th>delayed_prior</th>\n",
       "      <td>336.72</td>\n",
       "      <td>1033.42</td>\n",
       "      <td>340.89</td>\n",
       "      <td>303.90</td>\n",
       "      <td>166.86</td>\n",
       "      <td>212.09</td>\n",
       "      <td>165.01</td>\n",
       "      <td>458.99</td>\n",
       "      <td>147.76</td>\n",
       "      <td>46.91</td>\n",
       "      <td>146.56</td>\n",
       "      <td>NaN</td>\n",
       "      <td>buy</td>\n",
       "    </tr>\n",
       "    <tr>\n",
       "      <th>delayed_bid</th>\n",
       "      <td>336.07</td>\n",
       "      <td>1010.52</td>\n",
       "      <td>347.10</td>\n",
       "      <td>300.00</td>\n",
       "      <td>166.56</td>\n",
       "      <td>212.32</td>\n",
       "      <td>163.19</td>\n",
       "      <td>451.10</td>\n",
       "      <td>146.90</td>\n",
       "      <td>47.05</td>\n",
       "      <td>147.00</td>\n",
       "      <td>NaN</td>\n",
       "      <td>buy</td>\n",
       "    </tr>\n",
       "    <tr>\n",
       "      <th>delayed_ask</th>\n",
       "      <td>336.24</td>\n",
       "      <td>1011.95</td>\n",
       "      <td>348.60</td>\n",
       "      <td>300.30</td>\n",
       "      <td>166.69</td>\n",
       "      <td>212.59</td>\n",
       "      <td>163.53</td>\n",
       "      <td>452.40</td>\n",
       "      <td>146.93</td>\n",
       "      <td>47.06</td>\n",
       "      <td>147.90</td>\n",
       "      <td>NaN</td>\n",
       "      <td>buy</td>\n",
       "    </tr>\n",
       "  </tbody>\n",
       "</table>\n",
       "</div>"
      ],
      "text/plain": [
       "                          0        1       2       3       4       5       6  \\\n",
       "delayed_last_traded  336.29      NaN     NaN  300.18  166.69  212.30  163.52   \n",
       "delayed_prior        336.72  1033.42  340.89  303.90  166.86  212.09  165.01   \n",
       "delayed_bid          336.07  1010.52  347.10  300.00  166.56  212.32  163.19   \n",
       "delayed_ask          336.24  1011.95  348.60  300.30  166.69  212.59  163.53   \n",
       "\n",
       "                          7       8      9      10  11 action  \n",
       "delayed_last_traded  450.80  146.93  47.05  147.40 NaN    buy  \n",
       "delayed_prior        458.99  147.76  46.91  146.56 NaN    buy  \n",
       "delayed_bid          451.10  146.90  47.05  147.00 NaN    buy  \n",
       "delayed_ask          452.40  146.93  47.06  147.90 NaN    buy  "
      ]
     },
     "execution_count": 15,
     "metadata": {},
     "output_type": "execute_result"
    }
   ],
   "source": [
    "check_pd"
   ]
  },
  {
   "cell_type": "code",
   "execution_count": 34,
   "id": "b01ad4f1",
   "metadata": {},
   "outputs": [],
   "source": [
    "check_pd.at[0, 'action'] = check_pd.iloc[0]['action']+str('stuff and stuff')"
   ]
  },
  {
   "cell_type": "code",
   "execution_count": 36,
   "id": "6a76b991",
   "metadata": {},
   "outputs": [],
   "source": [
    "check_pd.iloc[0, check_pd.columns.get_loc('action')] = check_pd.iloc[0]['action']+str('stuff and stuff')"
   ]
  },
  {
   "cell_type": "code",
   "execution_count": 28,
   "id": "afcc5fae",
   "metadata": {},
   "outputs": [
    {
     "data": {
      "text/plain": [
       "'buysdsds'"
      ]
     },
     "execution_count": 28,
     "metadata": {},
     "output_type": "execute_result"
    }
   ],
   "source": [
    "check_pd.iloc[0]['action']+str('sdsds')"
   ]
  },
  {
   "cell_type": "code",
   "execution_count": 37,
   "id": "e772d3f5",
   "metadata": {},
   "outputs": [
    {
     "data": {
      "text/html": [
       "<div>\n",
       "<style scoped>\n",
       "    .dataframe tbody tr th:only-of-type {\n",
       "        vertical-align: middle;\n",
       "    }\n",
       "\n",
       "    .dataframe tbody tr th {\n",
       "        vertical-align: top;\n",
       "    }\n",
       "\n",
       "    .dataframe thead th {\n",
       "        text-align: right;\n",
       "    }\n",
       "</style>\n",
       "<table border=\"1\" class=\"dataframe\">\n",
       "  <thead>\n",
       "    <tr style=\"text-align: right;\">\n",
       "      <th></th>\n",
       "      <th>0</th>\n",
       "      <th>1</th>\n",
       "      <th>2</th>\n",
       "      <th>3</th>\n",
       "      <th>4</th>\n",
       "      <th>5</th>\n",
       "      <th>6</th>\n",
       "      <th>7</th>\n",
       "      <th>8</th>\n",
       "      <th>9</th>\n",
       "      <th>10</th>\n",
       "      <th>11</th>\n",
       "      <th>action</th>\n",
       "    </tr>\n",
       "  </thead>\n",
       "  <tbody>\n",
       "    <tr>\n",
       "      <th>delayed_last_traded</th>\n",
       "      <td>336.29</td>\n",
       "      <td>NaN</td>\n",
       "      <td>NaN</td>\n",
       "      <td>300.18</td>\n",
       "      <td>166.69</td>\n",
       "      <td>212.30</td>\n",
       "      <td>163.52</td>\n",
       "      <td>450.80</td>\n",
       "      <td>146.93</td>\n",
       "      <td>47.05</td>\n",
       "      <td>147.40</td>\n",
       "      <td>NaN</td>\n",
       "      <td>buystuff and stuff</td>\n",
       "    </tr>\n",
       "    <tr>\n",
       "      <th>delayed_prior</th>\n",
       "      <td>336.72</td>\n",
       "      <td>1033.42</td>\n",
       "      <td>340.89</td>\n",
       "      <td>303.90</td>\n",
       "      <td>166.86</td>\n",
       "      <td>212.09</td>\n",
       "      <td>165.01</td>\n",
       "      <td>458.99</td>\n",
       "      <td>147.76</td>\n",
       "      <td>46.91</td>\n",
       "      <td>146.56</td>\n",
       "      <td>NaN</td>\n",
       "      <td>buy</td>\n",
       "    </tr>\n",
       "    <tr>\n",
       "      <th>delayed_bid</th>\n",
       "      <td>336.07</td>\n",
       "      <td>1010.52</td>\n",
       "      <td>347.10</td>\n",
       "      <td>300.00</td>\n",
       "      <td>166.56</td>\n",
       "      <td>212.32</td>\n",
       "      <td>163.19</td>\n",
       "      <td>451.10</td>\n",
       "      <td>146.90</td>\n",
       "      <td>47.05</td>\n",
       "      <td>147.00</td>\n",
       "      <td>NaN</td>\n",
       "      <td>buy</td>\n",
       "    </tr>\n",
       "    <tr>\n",
       "      <th>delayed_ask</th>\n",
       "      <td>336.24</td>\n",
       "      <td>1011.95</td>\n",
       "      <td>348.60</td>\n",
       "      <td>300.30</td>\n",
       "      <td>166.69</td>\n",
       "      <td>212.59</td>\n",
       "      <td>163.53</td>\n",
       "      <td>452.40</td>\n",
       "      <td>146.93</td>\n",
       "      <td>47.06</td>\n",
       "      <td>147.90</td>\n",
       "      <td>NaN</td>\n",
       "      <td>buy</td>\n",
       "    </tr>\n",
       "    <tr>\n",
       "      <th>0</th>\n",
       "      <td>NaN</td>\n",
       "      <td>NaN</td>\n",
       "      <td>NaN</td>\n",
       "      <td>NaN</td>\n",
       "      <td>NaN</td>\n",
       "      <td>NaN</td>\n",
       "      <td>NaN</td>\n",
       "      <td>NaN</td>\n",
       "      <td>NaN</td>\n",
       "      <td>NaN</td>\n",
       "      <td>NaN</td>\n",
       "      <td>NaN</td>\n",
       "      <td>buystuff and stuff</td>\n",
       "    </tr>\n",
       "    <tr>\n",
       "      <th>0</th>\n",
       "      <td>NaN</td>\n",
       "      <td>NaN</td>\n",
       "      <td>NaN</td>\n",
       "      <td>NaN</td>\n",
       "      <td>NaN</td>\n",
       "      <td>NaN</td>\n",
       "      <td>NaN</td>\n",
       "      <td>NaN</td>\n",
       "      <td>NaN</td>\n",
       "      <td>NaN</td>\n",
       "      <td>NaN</td>\n",
       "      <td>NaN</td>\n",
       "      <td>buystuff and stuff</td>\n",
       "    </tr>\n",
       "  </tbody>\n",
       "</table>\n",
       "</div>"
      ],
      "text/plain": [
       "                          0        1       2       3       4       5       6  \\\n",
       "delayed_last_traded  336.29      NaN     NaN  300.18  166.69  212.30  163.52   \n",
       "delayed_prior        336.72  1033.42  340.89  303.90  166.86  212.09  165.01   \n",
       "delayed_bid          336.07  1010.52  347.10  300.00  166.56  212.32  163.19   \n",
       "delayed_ask          336.24  1011.95  348.60  300.30  166.69  212.59  163.53   \n",
       "0                       NaN      NaN     NaN     NaN     NaN     NaN     NaN   \n",
       "0                       NaN      NaN     NaN     NaN     NaN     NaN     NaN   \n",
       "\n",
       "                          7       8      9      10  11              action  \n",
       "delayed_last_traded  450.80  146.93  47.05  147.40 NaN  buystuff and stuff  \n",
       "delayed_prior        458.99  147.76  46.91  146.56 NaN                 buy  \n",
       "delayed_bid          451.10  146.90  47.05  147.00 NaN                 buy  \n",
       "delayed_ask          452.40  146.93  47.06  147.90 NaN                 buy  \n",
       "0                       NaN     NaN    NaN     NaN NaN  buystuff and stuff  \n",
       "0                       NaN     NaN    NaN     NaN NaN  buystuff and stuff  "
      ]
     },
     "execution_count": 37,
     "metadata": {},
     "output_type": "execute_result"
    }
   ],
   "source": [
    "check_pd"
   ]
  },
  {
   "cell_type": "code",
   "execution_count": 1,
   "id": "2ef42a83",
   "metadata": {},
   "outputs": [],
   "source": [
    "import datetime as dt"
   ]
  },
  {
   "cell_type": "code",
   "execution_count": 20,
   "id": "c8c25763",
   "metadata": {},
   "outputs": [],
   "source": [
    "day1 = dt.datetime.today().date()"
   ]
  },
  {
   "cell_type": "code",
   "execution_count": 21,
   "id": "7585d1b1",
   "metadata": {},
   "outputs": [],
   "source": [
    "day1 -= dt.timedelta(days=4)"
   ]
  },
  {
   "cell_type": "code",
   "execution_count": 22,
   "id": "a8faae4f",
   "metadata": {},
   "outputs": [
    {
     "name": "stdout",
     "output_type": "stream",
     "text": [
      "2021-12-05\n"
     ]
    }
   ],
   "source": [
    "print(day1)"
   ]
  },
  {
   "cell_type": "code",
   "execution_count": 23,
   "id": "0bf87d7b",
   "metadata": {},
   "outputs": [
    {
     "name": "stdout",
     "output_type": "stream",
     "text": [
      "its weekend\n"
     ]
    }
   ],
   "source": [
    "if day1.weekday() >= 0 and day1.weekday() <= 4  :\n",
    "    print(day1.weekday())\n",
    "else:\n",
    "    print('its weekend')"
   ]
  },
  {
   "cell_type": "code",
   "execution_count": null,
   "id": "34b48aa7",
   "metadata": {},
   "outputs": [],
   "source": []
  },
  {
   "cell_type": "code",
   "execution_count": null,
   "id": "aea35515",
   "metadata": {},
   "outputs": [],
   "source": []
  },
  {
   "cell_type": "code",
   "execution_count": null,
   "id": "0ad075b4",
   "metadata": {},
   "outputs": [],
   "source": []
  },
  {
   "cell_type": "code",
   "execution_count": null,
   "id": "f03349df",
   "metadata": {},
   "outputs": [],
   "source": []
  },
  {
   "cell_type": "code",
   "execution_count": null,
   "id": "b47202e3",
   "metadata": {},
   "outputs": [],
   "source": []
  }
 ],
 "metadata": {
  "kernelspec": {
   "display_name": "Python 3 (ipykernel)",
   "language": "python",
   "name": "python3"
  },
  "language_info": {
   "codemirror_mode": {
    "name": "ipython",
    "version": 3
   },
   "file_extension": ".py",
   "mimetype": "text/x-python",
   "name": "python",
   "nbconvert_exporter": "python",
   "pygments_lexer": "ipython3",
   "version": "3.8.12"
  }
 },
 "nbformat": 4,
 "nbformat_minor": 5
}
