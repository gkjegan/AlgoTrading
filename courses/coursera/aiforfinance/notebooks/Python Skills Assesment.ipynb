{
 "cells": [
  {
   "cell_type": "code",
   "execution_count": 2,
   "id": "d7e908cd",
   "metadata": {},
   "outputs": [],
   "source": [
    "tuple = ('left', 44.44, 'temp', 99.99)"
   ]
  },
  {
   "cell_type": "code",
   "execution_count": 3,
   "id": "9fb5931c",
   "metadata": {},
   "outputs": [
    {
     "name": "stdout",
     "output_type": "stream",
     "text": [
      "left\n"
     ]
    }
   ],
   "source": [
    "print(tuple[0])"
   ]
  },
  {
   "cell_type": "code",
   "execution_count": 4,
   "id": "1a0c8ceb",
   "metadata": {},
   "outputs": [],
   "source": [
    "var = '                 remove left space'"
   ]
  },
  {
   "cell_type": "code",
   "execution_count": 5,
   "id": "f0a6b63a",
   "metadata": {},
   "outputs": [
    {
     "name": "stdout",
     "output_type": "stream",
     "text": [
      "                 remove left space\n"
     ]
    }
   ],
   "source": [
    "print(var)"
   ]
  },
  {
   "cell_type": "code",
   "execution_count": 6,
   "id": "e8e0f165",
   "metadata": {},
   "outputs": [
    {
     "name": "stdout",
     "output_type": "stream",
     "text": [
      "remove left space\n"
     ]
    }
   ],
   "source": [
    "print(var.lstrip())"
   ]
  },
  {
   "cell_type": "code",
   "execution_count": 7,
   "id": "4b60d811",
   "metadata": {},
   "outputs": [
    {
     "name": "stdout",
     "output_type": "stream",
     "text": [
      "remove left space\n"
     ]
    }
   ],
   "source": [
    "print(var.strip())"
   ]
  },
  {
   "cell_type": "code",
   "execution_count": 8,
   "id": "73bd17dd",
   "metadata": {},
   "outputs": [
    {
     "name": "stdout",
     "output_type": "stream",
     "text": [
      "33.333333%\n"
     ]
    }
   ],
   "source": [
    "print('{0:-2%}'.format(1.0/3))"
   ]
  },
  {
   "cell_type": "code",
   "execution_count": 9,
   "id": "e795e2c2",
   "metadata": {},
   "outputs": [
    {
     "name": "stdout",
     "output_type": "stream",
     "text": [
      "abcefd\n"
     ]
    }
   ],
   "source": [
    "print('abcefd'.replace('cd','12'))"
   ]
  },
  {
   "cell_type": "code",
   "execution_count": 10,
   "id": "cdaa1956",
   "metadata": {},
   "outputs": [
    {
     "name": "stdout",
     "output_type": "stream",
     "text": [
      "0\n",
      "1\n",
      "2\n",
      "3\n",
      "4\n"
     ]
    }
   ],
   "source": [
    "my_string = 'whais'\n",
    "for i in range(len(my_string)):\n",
    "    print(i)"
   ]
  },
  {
   "cell_type": "code",
   "execution_count": 11,
   "id": "f0e8c150",
   "metadata": {},
   "outputs": [
    {
     "name": "stdout",
     "output_type": "stream",
     "text": [
      "True\n"
     ]
    }
   ],
   "source": [
    "print(3>=3)"
   ]
  },
  {
   "cell_type": "code",
   "execution_count": 12,
   "id": "b312e1fe",
   "metadata": {},
   "outputs": [],
   "source": [
    "N ='3.0'"
   ]
  },
  {
   "cell_type": "code",
   "execution_count": 15,
   "id": "20cd9981",
   "metadata": {},
   "outputs": [
    {
     "data": {
      "text/plain": [
       "str"
      ]
     },
     "execution_count": 15,
     "metadata": {},
     "output_type": "execute_result"
    }
   ],
   "source": [
    "type(N)"
   ]
  },
  {
   "cell_type": "code",
   "execution_count": 17,
   "id": "55c58f9b",
   "metadata": {},
   "outputs": [],
   "source": [
    "_var = \"startwithdigit\""
   ]
  },
  {
   "cell_type": "code",
   "execution_count": null,
   "id": "89f4cb30",
   "metadata": {},
   "outputs": [],
   "source": []
  }
 ],
 "metadata": {
  "kernelspec": {
   "display_name": "Python 3",
   "language": "python",
   "name": "python3"
  },
  "language_info": {
   "codemirror_mode": {
    "name": "ipython",
    "version": 3
   },
   "file_extension": ".py",
   "mimetype": "text/x-python",
   "name": "python",
   "nbconvert_exporter": "python",
   "pygments_lexer": "ipython3",
   "version": "3.8.8"
  }
 },
 "nbformat": 4,
 "nbformat_minor": 5
}
